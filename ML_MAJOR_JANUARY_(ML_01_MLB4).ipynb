{
  "nbformat": 4,
  "nbformat_minor": 0,
  "metadata": {
    "colab": {
      "provenance": [],
      "collapsed_sections": [
        "rPWwiMClQ4Rw",
        "3Yio61zKRSj0",
        "IFEOvkHPSwlB",
        "qo8gxqfST54s",
        "4p--MsCSV9IV"
      ],
      "include_colab_link": true
    },
    "kernelspec": {
      "name": "python3",
      "display_name": "Python 3"
    },
    "language_info": {
      "name": "python"
    }
  },
  "cells": [
    {
      "cell_type": "markdown",
      "metadata": {
        "id": "view-in-github",
        "colab_type": "text"
      },
      "source": [
        "<a href=\"https://colab.research.google.com/github/starrylight90/Credit-Card-Fraud-Detection-using-Logistic-Regression/blob/main/ML_MAJOR_JANUARY_(ML_01_MLB4).ipynb\" target=\"_parent\"><img src=\"https://colab.research.google.com/assets/colab-badge.svg\" alt=\"Open In Colab\"/></a>"
      ]
    },
    {
      "cell_type": "markdown",
      "source": [
        "## **Import Important Libraries and Dataset**"
      ],
      "metadata": {
        "id": "rPWwiMClQ4Rw"
      }
    },
    {
      "cell_type": "code",
      "source": [
        "# import necessary python libraries\n",
        "import pandas as pd\n",
        "import numpy as np\n",
        "import seaborn as sns\n",
        "import matplotlib.pyplot as plt"
      ],
      "metadata": {
        "id": "Dq91_5mARGbh"
      },
      "execution_count": null,
      "outputs": []
    },
    {
      "cell_type": "code",
      "source": [
        "# read the csv file for dataset\n",
        "df = pd.read_csv('fraudTest.csv')"
      ],
      "metadata": {
        "id": "kq1FKhS8XtRk"
      },
      "execution_count": null,
      "outputs": []
    },
    {
      "cell_type": "code",
      "source": [
        "# display the dataset\n",
        "df"
      ],
      "metadata": {
        "colab": {
          "base_uri": "https://localhost:8080/",
          "height": 835
        },
        "id": "EwOrzZZcYaou",
        "outputId": "b98b2cb3-3b75-47ea-e514-867a0d1dd310"
      },
      "execution_count": null,
      "outputs": [
        {
          "output_type": "execute_result",
          "data": {
            "text/plain": [
              "       Unnamed: 0 trans_date_trans_time        cc_num  \\\n",
              "0               0   2020-06-21 12:14:25  2.291164e+15   \n",
              "1               1   2020-06-21 12:14:33  3.573030e+15   \n",
              "2               2   2020-06-21 12:14:53  3.598215e+15   \n",
              "3               3   2020-06-21 12:15:15  3.591920e+15   \n",
              "4               4   2020-06-21 12:15:17  3.526826e+15   \n",
              "...           ...                   ...           ...   \n",
              "31119       31119   2020-07-01 15:44:54  4.698164e+15   \n",
              "31120       31120   2020-07-01 15:45:01  3.553629e+15   \n",
              "31121       31121   2020-07-01 15:46:07  4.906629e+18   \n",
              "31122       31122   2020-07-01 15:46:50  1.800115e+14   \n",
              "31123       31123       2020-07-01 15:4           NaN   \n",
              "\n",
              "                                   merchant        category    amt    first  \\\n",
              "0                     fraud_Kirlin and Sons   personal_care   2.86     Jeff   \n",
              "1                      fraud_Sporer-Keebler   personal_care  29.84   Joanne   \n",
              "2      fraud_Swaniawski, Nitzsche and Welch  health_fitness  41.28   Ashley   \n",
              "3                         fraud_Haley Group        misc_pos  60.05    Brian   \n",
              "4                     fraud_Johnston-Casper          travel   3.19   Nathan   \n",
              "...                                     ...             ...    ...      ...   \n",
              "31119                fraud_Simonis-Prohaska        misc_pos   1.78   Sharon   \n",
              "31120               fraud_Cummerata-Hilpert   entertainment  36.63   Sharon   \n",
              "31121                     fraud_Friesen Inc    shopping_pos   9.20  Charles   \n",
              "31122          fraud_Feil, Hilpert and Koss     food_dining  71.46    Craig   \n",
              "31123                                   NaN             NaN    NaN      NaN   \n",
              "\n",
              "           last gender                         street  ...      lat      long  \\\n",
              "0       Elliott      M              351 Darlene Green  ...  33.9659  -80.9355   \n",
              "1      Williams      F               3638 Marsh Union  ...  40.3207 -110.4360   \n",
              "2         Lopez      F           9333 Valentine Point  ...  40.6729  -73.5365   \n",
              "3      Williams      M    32941 Krystal Mill Apt. 552  ...  28.5697  -80.8191   \n",
              "4        Massey      M       5783 Evan Roads Apt. 465  ...  44.2529  -85.0170   \n",
              "...         ...    ...                            ...  ...      ...       ...   \n",
              "31119    Powell      F                 101 Carla Loop  ...  40.3406 -120.2824   \n",
              "31120   Johnson      F             7202 Jeffrey Mills  ...  48.3400 -122.3456   \n",
              "31121    Moreno      M  838 Franklin Prairie Apt. 902  ...  24.6557  -81.3824   \n",
              "31122      Dunn      M          721 Jacqueline Brooks  ...  41.2153  -90.9879   \n",
              "31123       NaN    NaN                            NaN  ...      NaN       NaN   \n",
              "\n",
              "       city_pop                                job         dob  \\\n",
              "0      333497.0                Mechanical engineer  1968-03-19   \n",
              "1         302.0             Sales professional, IT  1990-01-17   \n",
              "2       34496.0                  Librarian, public  1970-10-21   \n",
              "3       54767.0                       Set designer  1987-07-25   \n",
              "4        1126.0                 Furniture designer  1955-07-06   \n",
              "...         ...                                ...         ...   \n",
              "31119     104.0           Teacher, adult education  1989-08-16   \n",
              "31120      85.0  Research officer, political party  1984-09-01   \n",
              "31121   32891.0                       Town planner  1987-02-13   \n",
              "31122    1504.0             Manufacturing engineer  1993-10-05   \n",
              "31123       NaN                                NaN         NaN   \n",
              "\n",
              "                              trans_num     unix_time  merch_lat  merch_long  \\\n",
              "0      2da90c7d74bd46a0caf3777415b3ebd3  1.371817e+09  33.986391  -81.200714   \n",
              "1      324cc204407e99f51b0d6ca0055005e7  1.371817e+09  39.450498 -109.960431   \n",
              "2      c81755dbbbea9d5c77f094348a7579be  1.371817e+09  40.495810  -74.196111   \n",
              "3      2159175b9efe66dc301f149d3d5abf8c  1.371817e+09  28.812398  -80.883061   \n",
              "4      57ff021bd3f328f8738bb535c302a31b  1.371817e+09  44.959148  -85.884734   \n",
              "...                                 ...           ...        ...         ...   \n",
              "31119  aa15e27a42e26a5e1e1d3a8642faabdb  1.372693e+09  41.106660 -121.106664   \n",
              "31120  e378eb98efb5ef9c5129d34f448a6110  1.372694e+09  48.449360 -122.128530   \n",
              "31121  8be3510c86d2637ee915c641fd2cda62  1.372694e+09  24.880999  -80.524712   \n",
              "31122  af0cd057be001c6669e9712853e64e77  1.372694e+09  40.475453  -90.658514   \n",
              "31123                               NaN           NaN        NaN         NaN   \n",
              "\n",
              "       is_fraud  \n",
              "0           0.0  \n",
              "1           0.0  \n",
              "2           0.0  \n",
              "3           0.0  \n",
              "4           0.0  \n",
              "...         ...  \n",
              "31119       0.0  \n",
              "31120       0.0  \n",
              "31121       0.0  \n",
              "31122       0.0  \n",
              "31123       NaN  \n",
              "\n",
              "[31124 rows x 23 columns]"
            ],
            "text/html": [
              "\n",
              "  <div id=\"df-5931af85-e3c8-4f8a-afa7-28a54c6fe7fa\">\n",
              "    <div class=\"colab-df-container\">\n",
              "      <div>\n",
              "<style scoped>\n",
              "    .dataframe tbody tr th:only-of-type {\n",
              "        vertical-align: middle;\n",
              "    }\n",
              "\n",
              "    .dataframe tbody tr th {\n",
              "        vertical-align: top;\n",
              "    }\n",
              "\n",
              "    .dataframe thead th {\n",
              "        text-align: right;\n",
              "    }\n",
              "</style>\n",
              "<table border=\"1\" class=\"dataframe\">\n",
              "  <thead>\n",
              "    <tr style=\"text-align: right;\">\n",
              "      <th></th>\n",
              "      <th>Unnamed: 0</th>\n",
              "      <th>trans_date_trans_time</th>\n",
              "      <th>cc_num</th>\n",
              "      <th>merchant</th>\n",
              "      <th>category</th>\n",
              "      <th>amt</th>\n",
              "      <th>first</th>\n",
              "      <th>last</th>\n",
              "      <th>gender</th>\n",
              "      <th>street</th>\n",
              "      <th>...</th>\n",
              "      <th>lat</th>\n",
              "      <th>long</th>\n",
              "      <th>city_pop</th>\n",
              "      <th>job</th>\n",
              "      <th>dob</th>\n",
              "      <th>trans_num</th>\n",
              "      <th>unix_time</th>\n",
              "      <th>merch_lat</th>\n",
              "      <th>merch_long</th>\n",
              "      <th>is_fraud</th>\n",
              "    </tr>\n",
              "  </thead>\n",
              "  <tbody>\n",
              "    <tr>\n",
              "      <th>0</th>\n",
              "      <td>0</td>\n",
              "      <td>2020-06-21 12:14:25</td>\n",
              "      <td>2.291164e+15</td>\n",
              "      <td>fraud_Kirlin and Sons</td>\n",
              "      <td>personal_care</td>\n",
              "      <td>2.86</td>\n",
              "      <td>Jeff</td>\n",
              "      <td>Elliott</td>\n",
              "      <td>M</td>\n",
              "      <td>351 Darlene Green</td>\n",
              "      <td>...</td>\n",
              "      <td>33.9659</td>\n",
              "      <td>-80.9355</td>\n",
              "      <td>333497.0</td>\n",
              "      <td>Mechanical engineer</td>\n",
              "      <td>1968-03-19</td>\n",
              "      <td>2da90c7d74bd46a0caf3777415b3ebd3</td>\n",
              "      <td>1.371817e+09</td>\n",
              "      <td>33.986391</td>\n",
              "      <td>-81.200714</td>\n",
              "      <td>0.0</td>\n",
              "    </tr>\n",
              "    <tr>\n",
              "      <th>1</th>\n",
              "      <td>1</td>\n",
              "      <td>2020-06-21 12:14:33</td>\n",
              "      <td>3.573030e+15</td>\n",
              "      <td>fraud_Sporer-Keebler</td>\n",
              "      <td>personal_care</td>\n",
              "      <td>29.84</td>\n",
              "      <td>Joanne</td>\n",
              "      <td>Williams</td>\n",
              "      <td>F</td>\n",
              "      <td>3638 Marsh Union</td>\n",
              "      <td>...</td>\n",
              "      <td>40.3207</td>\n",
              "      <td>-110.4360</td>\n",
              "      <td>302.0</td>\n",
              "      <td>Sales professional, IT</td>\n",
              "      <td>1990-01-17</td>\n",
              "      <td>324cc204407e99f51b0d6ca0055005e7</td>\n",
              "      <td>1.371817e+09</td>\n",
              "      <td>39.450498</td>\n",
              "      <td>-109.960431</td>\n",
              "      <td>0.0</td>\n",
              "    </tr>\n",
              "    <tr>\n",
              "      <th>2</th>\n",
              "      <td>2</td>\n",
              "      <td>2020-06-21 12:14:53</td>\n",
              "      <td>3.598215e+15</td>\n",
              "      <td>fraud_Swaniawski, Nitzsche and Welch</td>\n",
              "      <td>health_fitness</td>\n",
              "      <td>41.28</td>\n",
              "      <td>Ashley</td>\n",
              "      <td>Lopez</td>\n",
              "      <td>F</td>\n",
              "      <td>9333 Valentine Point</td>\n",
              "      <td>...</td>\n",
              "      <td>40.6729</td>\n",
              "      <td>-73.5365</td>\n",
              "      <td>34496.0</td>\n",
              "      <td>Librarian, public</td>\n",
              "      <td>1970-10-21</td>\n",
              "      <td>c81755dbbbea9d5c77f094348a7579be</td>\n",
              "      <td>1.371817e+09</td>\n",
              "      <td>40.495810</td>\n",
              "      <td>-74.196111</td>\n",
              "      <td>0.0</td>\n",
              "    </tr>\n",
              "    <tr>\n",
              "      <th>3</th>\n",
              "      <td>3</td>\n",
              "      <td>2020-06-21 12:15:15</td>\n",
              "      <td>3.591920e+15</td>\n",
              "      <td>fraud_Haley Group</td>\n",
              "      <td>misc_pos</td>\n",
              "      <td>60.05</td>\n",
              "      <td>Brian</td>\n",
              "      <td>Williams</td>\n",
              "      <td>M</td>\n",
              "      <td>32941 Krystal Mill Apt. 552</td>\n",
              "      <td>...</td>\n",
              "      <td>28.5697</td>\n",
              "      <td>-80.8191</td>\n",
              "      <td>54767.0</td>\n",
              "      <td>Set designer</td>\n",
              "      <td>1987-07-25</td>\n",
              "      <td>2159175b9efe66dc301f149d3d5abf8c</td>\n",
              "      <td>1.371817e+09</td>\n",
              "      <td>28.812398</td>\n",
              "      <td>-80.883061</td>\n",
              "      <td>0.0</td>\n",
              "    </tr>\n",
              "    <tr>\n",
              "      <th>4</th>\n",
              "      <td>4</td>\n",
              "      <td>2020-06-21 12:15:17</td>\n",
              "      <td>3.526826e+15</td>\n",
              "      <td>fraud_Johnston-Casper</td>\n",
              "      <td>travel</td>\n",
              "      <td>3.19</td>\n",
              "      <td>Nathan</td>\n",
              "      <td>Massey</td>\n",
              "      <td>M</td>\n",
              "      <td>5783 Evan Roads Apt. 465</td>\n",
              "      <td>...</td>\n",
              "      <td>44.2529</td>\n",
              "      <td>-85.0170</td>\n",
              "      <td>1126.0</td>\n",
              "      <td>Furniture designer</td>\n",
              "      <td>1955-07-06</td>\n",
              "      <td>57ff021bd3f328f8738bb535c302a31b</td>\n",
              "      <td>1.371817e+09</td>\n",
              "      <td>44.959148</td>\n",
              "      <td>-85.884734</td>\n",
              "      <td>0.0</td>\n",
              "    </tr>\n",
              "    <tr>\n",
              "      <th>...</th>\n",
              "      <td>...</td>\n",
              "      <td>...</td>\n",
              "      <td>...</td>\n",
              "      <td>...</td>\n",
              "      <td>...</td>\n",
              "      <td>...</td>\n",
              "      <td>...</td>\n",
              "      <td>...</td>\n",
              "      <td>...</td>\n",
              "      <td>...</td>\n",
              "      <td>...</td>\n",
              "      <td>...</td>\n",
              "      <td>...</td>\n",
              "      <td>...</td>\n",
              "      <td>...</td>\n",
              "      <td>...</td>\n",
              "      <td>...</td>\n",
              "      <td>...</td>\n",
              "      <td>...</td>\n",
              "      <td>...</td>\n",
              "      <td>...</td>\n",
              "    </tr>\n",
              "    <tr>\n",
              "      <th>31119</th>\n",
              "      <td>31119</td>\n",
              "      <td>2020-07-01 15:44:54</td>\n",
              "      <td>4.698164e+15</td>\n",
              "      <td>fraud_Simonis-Prohaska</td>\n",
              "      <td>misc_pos</td>\n",
              "      <td>1.78</td>\n",
              "      <td>Sharon</td>\n",
              "      <td>Powell</td>\n",
              "      <td>F</td>\n",
              "      <td>101 Carla Loop</td>\n",
              "      <td>...</td>\n",
              "      <td>40.3406</td>\n",
              "      <td>-120.2824</td>\n",
              "      <td>104.0</td>\n",
              "      <td>Teacher, adult education</td>\n",
              "      <td>1989-08-16</td>\n",
              "      <td>aa15e27a42e26a5e1e1d3a8642faabdb</td>\n",
              "      <td>1.372693e+09</td>\n",
              "      <td>41.106660</td>\n",
              "      <td>-121.106664</td>\n",
              "      <td>0.0</td>\n",
              "    </tr>\n",
              "    <tr>\n",
              "      <th>31120</th>\n",
              "      <td>31120</td>\n",
              "      <td>2020-07-01 15:45:01</td>\n",
              "      <td>3.553629e+15</td>\n",
              "      <td>fraud_Cummerata-Hilpert</td>\n",
              "      <td>entertainment</td>\n",
              "      <td>36.63</td>\n",
              "      <td>Sharon</td>\n",
              "      <td>Johnson</td>\n",
              "      <td>F</td>\n",
              "      <td>7202 Jeffrey Mills</td>\n",
              "      <td>...</td>\n",
              "      <td>48.3400</td>\n",
              "      <td>-122.3456</td>\n",
              "      <td>85.0</td>\n",
              "      <td>Research officer, political party</td>\n",
              "      <td>1984-09-01</td>\n",
              "      <td>e378eb98efb5ef9c5129d34f448a6110</td>\n",
              "      <td>1.372694e+09</td>\n",
              "      <td>48.449360</td>\n",
              "      <td>-122.128530</td>\n",
              "      <td>0.0</td>\n",
              "    </tr>\n",
              "    <tr>\n",
              "      <th>31121</th>\n",
              "      <td>31121</td>\n",
              "      <td>2020-07-01 15:46:07</td>\n",
              "      <td>4.906629e+18</td>\n",
              "      <td>fraud_Friesen Inc</td>\n",
              "      <td>shopping_pos</td>\n",
              "      <td>9.20</td>\n",
              "      <td>Charles</td>\n",
              "      <td>Moreno</td>\n",
              "      <td>M</td>\n",
              "      <td>838 Franklin Prairie Apt. 902</td>\n",
              "      <td>...</td>\n",
              "      <td>24.6557</td>\n",
              "      <td>-81.3824</td>\n",
              "      <td>32891.0</td>\n",
              "      <td>Town planner</td>\n",
              "      <td>1987-02-13</td>\n",
              "      <td>8be3510c86d2637ee915c641fd2cda62</td>\n",
              "      <td>1.372694e+09</td>\n",
              "      <td>24.880999</td>\n",
              "      <td>-80.524712</td>\n",
              "      <td>0.0</td>\n",
              "    </tr>\n",
              "    <tr>\n",
              "      <th>31122</th>\n",
              "      <td>31122</td>\n",
              "      <td>2020-07-01 15:46:50</td>\n",
              "      <td>1.800115e+14</td>\n",
              "      <td>fraud_Feil, Hilpert and Koss</td>\n",
              "      <td>food_dining</td>\n",
              "      <td>71.46</td>\n",
              "      <td>Craig</td>\n",
              "      <td>Dunn</td>\n",
              "      <td>M</td>\n",
              "      <td>721 Jacqueline Brooks</td>\n",
              "      <td>...</td>\n",
              "      <td>41.2153</td>\n",
              "      <td>-90.9879</td>\n",
              "      <td>1504.0</td>\n",
              "      <td>Manufacturing engineer</td>\n",
              "      <td>1993-10-05</td>\n",
              "      <td>af0cd057be001c6669e9712853e64e77</td>\n",
              "      <td>1.372694e+09</td>\n",
              "      <td>40.475453</td>\n",
              "      <td>-90.658514</td>\n",
              "      <td>0.0</td>\n",
              "    </tr>\n",
              "    <tr>\n",
              "      <th>31123</th>\n",
              "      <td>31123</td>\n",
              "      <td>2020-07-01 15:4</td>\n",
              "      <td>NaN</td>\n",
              "      <td>NaN</td>\n",
              "      <td>NaN</td>\n",
              "      <td>NaN</td>\n",
              "      <td>NaN</td>\n",
              "      <td>NaN</td>\n",
              "      <td>NaN</td>\n",
              "      <td>NaN</td>\n",
              "      <td>...</td>\n",
              "      <td>NaN</td>\n",
              "      <td>NaN</td>\n",
              "      <td>NaN</td>\n",
              "      <td>NaN</td>\n",
              "      <td>NaN</td>\n",
              "      <td>NaN</td>\n",
              "      <td>NaN</td>\n",
              "      <td>NaN</td>\n",
              "      <td>NaN</td>\n",
              "      <td>NaN</td>\n",
              "    </tr>\n",
              "  </tbody>\n",
              "</table>\n",
              "<p>31124 rows × 23 columns</p>\n",
              "</div>\n",
              "      <button class=\"colab-df-convert\" onclick=\"convertToInteractive('df-5931af85-e3c8-4f8a-afa7-28a54c6fe7fa')\"\n",
              "              title=\"Convert this dataframe to an interactive table.\"\n",
              "              style=\"display:none;\">\n",
              "        \n",
              "  <svg xmlns=\"http://www.w3.org/2000/svg\" height=\"24px\"viewBox=\"0 0 24 24\"\n",
              "       width=\"24px\">\n",
              "    <path d=\"M0 0h24v24H0V0z\" fill=\"none\"/>\n",
              "    <path d=\"M18.56 5.44l.94 2.06.94-2.06 2.06-.94-2.06-.94-.94-2.06-.94 2.06-2.06.94zm-11 1L8.5 8.5l.94-2.06 2.06-.94-2.06-.94L8.5 2.5l-.94 2.06-2.06.94zm10 10l.94 2.06.94-2.06 2.06-.94-2.06-.94-.94-2.06-.94 2.06-2.06.94z\"/><path d=\"M17.41 7.96l-1.37-1.37c-.4-.4-.92-.59-1.43-.59-.52 0-1.04.2-1.43.59L10.3 9.45l-7.72 7.72c-.78.78-.78 2.05 0 2.83L4 21.41c.39.39.9.59 1.41.59.51 0 1.02-.2 1.41-.59l7.78-7.78 2.81-2.81c.8-.78.8-2.07 0-2.86zM5.41 20L4 18.59l7.72-7.72 1.47 1.35L5.41 20z\"/>\n",
              "  </svg>\n",
              "      </button>\n",
              "      \n",
              "  <style>\n",
              "    .colab-df-container {\n",
              "      display:flex;\n",
              "      flex-wrap:wrap;\n",
              "      gap: 12px;\n",
              "    }\n",
              "\n",
              "    .colab-df-convert {\n",
              "      background-color: #E8F0FE;\n",
              "      border: none;\n",
              "      border-radius: 50%;\n",
              "      cursor: pointer;\n",
              "      display: none;\n",
              "      fill: #1967D2;\n",
              "      height: 32px;\n",
              "      padding: 0 0 0 0;\n",
              "      width: 32px;\n",
              "    }\n",
              "\n",
              "    .colab-df-convert:hover {\n",
              "      background-color: #E2EBFA;\n",
              "      box-shadow: 0px 1px 2px rgba(60, 64, 67, 0.3), 0px 1px 3px 1px rgba(60, 64, 67, 0.15);\n",
              "      fill: #174EA6;\n",
              "    }\n",
              "\n",
              "    [theme=dark] .colab-df-convert {\n",
              "      background-color: #3B4455;\n",
              "      fill: #D2E3FC;\n",
              "    }\n",
              "\n",
              "    [theme=dark] .colab-df-convert:hover {\n",
              "      background-color: #434B5C;\n",
              "      box-shadow: 0px 1px 3px 1px rgba(0, 0, 0, 0.15);\n",
              "      filter: drop-shadow(0px 1px 2px rgba(0, 0, 0, 0.3));\n",
              "      fill: #FFFFFF;\n",
              "    }\n",
              "  </style>\n",
              "\n",
              "      <script>\n",
              "        const buttonEl =\n",
              "          document.querySelector('#df-5931af85-e3c8-4f8a-afa7-28a54c6fe7fa button.colab-df-convert');\n",
              "        buttonEl.style.display =\n",
              "          google.colab.kernel.accessAllowed ? 'block' : 'none';\n",
              "\n",
              "        async function convertToInteractive(key) {\n",
              "          const element = document.querySelector('#df-5931af85-e3c8-4f8a-afa7-28a54c6fe7fa');\n",
              "          const dataTable =\n",
              "            await google.colab.kernel.invokeFunction('convertToInteractive',\n",
              "                                                     [key], {});\n",
              "          if (!dataTable) return;\n",
              "\n",
              "          const docLinkHtml = 'Like what you see? Visit the ' +\n",
              "            '<a target=\"_blank\" href=https://colab.research.google.com/notebooks/data_table.ipynb>data table notebook</a>'\n",
              "            + ' to learn more about interactive tables.';\n",
              "          element.innerHTML = '';\n",
              "          dataTable['output_type'] = 'display_data';\n",
              "          await google.colab.output.renderOutput(dataTable, element);\n",
              "          const docLink = document.createElement('div');\n",
              "          docLink.innerHTML = docLinkHtml;\n",
              "          element.appendChild(docLink);\n",
              "        }\n",
              "      </script>\n",
              "    </div>\n",
              "  </div>\n",
              "  "
            ]
          },
          "metadata": {},
          "execution_count": 51
        }
      ]
    },
    {
      "cell_type": "markdown",
      "source": [
        "## **Exploratory Data Analysis**"
      ],
      "metadata": {
        "id": "3Yio61zKRSj0"
      }
    },
    {
      "cell_type": "markdown",
      "source": [
        "### **Understanding the Dataset**"
      ],
      "metadata": {
        "id": "IFEOvkHPSwlB"
      }
    },
    {
      "cell_type": "code",
      "source": [
        "#check the dataframe info\n",
        "df.info()"
      ],
      "metadata": {
        "colab": {
          "base_uri": "https://localhost:8080/"
        },
        "id": "-Hs_T9JYYnf0",
        "outputId": "81594c4a-77b3-45cf-a6e8-0d9ce3833b72"
      },
      "execution_count": null,
      "outputs": [
        {
          "output_type": "stream",
          "name": "stdout",
          "text": [
            "<class 'pandas.core.frame.DataFrame'>\n",
            "RangeIndex: 31124 entries, 0 to 31123\n",
            "Data columns (total 23 columns):\n",
            " #   Column                 Non-Null Count  Dtype  \n",
            "---  ------                 --------------  -----  \n",
            " 0   Unnamed: 0             31124 non-null  int64  \n",
            " 1   trans_date_trans_time  31124 non-null  object \n",
            " 2   cc_num                 31123 non-null  float64\n",
            " 3   merchant               31123 non-null  object \n",
            " 4   category               31123 non-null  object \n",
            " 5   amt                    31123 non-null  float64\n",
            " 6   first                  31123 non-null  object \n",
            " 7   last                   31123 non-null  object \n",
            " 8   gender                 31123 non-null  object \n",
            " 9   street                 31123 non-null  object \n",
            " 10  city                   31123 non-null  object \n",
            " 11  state                  31123 non-null  object \n",
            " 12  zip                    31123 non-null  float64\n",
            " 13  lat                    31123 non-null  float64\n",
            " 14  long                   31123 non-null  float64\n",
            " 15  city_pop               31123 non-null  float64\n",
            " 16  job                    31123 non-null  object \n",
            " 17  dob                    31123 non-null  object \n",
            " 18  trans_num              31123 non-null  object \n",
            " 19  unix_time              31123 non-null  float64\n",
            " 20  merch_lat              31123 non-null  float64\n",
            " 21  merch_long             31123 non-null  float64\n",
            " 22  is_fraud               31123 non-null  float64\n",
            "dtypes: float64(10), int64(1), object(12)\n",
            "memory usage: 5.5+ MB\n"
          ]
        }
      ]
    },
    {
      "cell_type": "code",
      "source": [
        "#statistical summary of df\n",
        "df.describe().round()"
      ],
      "metadata": {
        "colab": {
          "base_uri": "https://localhost:8080/",
          "height": 344
        },
        "id": "55AYeaQqY9rT",
        "outputId": "39235238-3450-4018-f8e8-0a18e7522bb1"
      },
      "execution_count": null,
      "outputs": [
        {
          "output_type": "execute_result",
          "data": {
            "text/plain": [
              "       Unnamed: 0        cc_num      amt      zip      lat     long  \\\n",
              "count     31124.0  3.112300e+04  31123.0  31123.0  31123.0  31123.0   \n",
              "mean      15562.0  4.091678e+17     69.0  48551.0     39.0    -90.0   \n",
              "std        8985.0  1.297193e+18    133.0  26775.0      5.0     14.0   \n",
              "min           0.0  6.041621e+10      1.0   1257.0     20.0   -166.0   \n",
              "25%        7781.0  1.800429e+14     10.0  25832.0     35.0    -97.0   \n",
              "50%       15562.0  3.518669e+15     47.0  48088.0     39.0    -87.0   \n",
              "75%       23342.0  4.610065e+15     83.0  71960.0     42.0    -80.0   \n",
              "max       31123.0  4.992346e+18   6600.0  99783.0     66.0    -68.0   \n",
              "\n",
              "        city_pop     unix_time  merch_lat  merch_long  is_fraud  \n",
              "count    31123.0  3.112300e+04    31123.0     31123.0   31123.0  \n",
              "mean     90132.0  1.372249e+09       39.0       -90.0       0.0  \n",
              "std     304341.0  2.675250e+05        5.0        14.0       0.0  \n",
              "min         23.0  1.371817e+09       19.0      -167.0       0.0  \n",
              "25%        759.0  1.371992e+09       35.0       -97.0       0.0  \n",
              "50%       2457.0  1.372270e+09       39.0       -87.0       0.0  \n",
              "75%      20478.0  1.372497e+09       42.0       -80.0       0.0  \n",
              "max    2906700.0  1.372694e+09       67.0       -67.0       1.0  "
            ],
            "text/html": [
              "\n",
              "  <div id=\"df-f004f44b-d3fc-464e-8c62-b23b9afee364\">\n",
              "    <div class=\"colab-df-container\">\n",
              "      <div>\n",
              "<style scoped>\n",
              "    .dataframe tbody tr th:only-of-type {\n",
              "        vertical-align: middle;\n",
              "    }\n",
              "\n",
              "    .dataframe tbody tr th {\n",
              "        vertical-align: top;\n",
              "    }\n",
              "\n",
              "    .dataframe thead th {\n",
              "        text-align: right;\n",
              "    }\n",
              "</style>\n",
              "<table border=\"1\" class=\"dataframe\">\n",
              "  <thead>\n",
              "    <tr style=\"text-align: right;\">\n",
              "      <th></th>\n",
              "      <th>Unnamed: 0</th>\n",
              "      <th>cc_num</th>\n",
              "      <th>amt</th>\n",
              "      <th>zip</th>\n",
              "      <th>lat</th>\n",
              "      <th>long</th>\n",
              "      <th>city_pop</th>\n",
              "      <th>unix_time</th>\n",
              "      <th>merch_lat</th>\n",
              "      <th>merch_long</th>\n",
              "      <th>is_fraud</th>\n",
              "    </tr>\n",
              "  </thead>\n",
              "  <tbody>\n",
              "    <tr>\n",
              "      <th>count</th>\n",
              "      <td>31124.0</td>\n",
              "      <td>3.112300e+04</td>\n",
              "      <td>31123.0</td>\n",
              "      <td>31123.0</td>\n",
              "      <td>31123.0</td>\n",
              "      <td>31123.0</td>\n",
              "      <td>31123.0</td>\n",
              "      <td>3.112300e+04</td>\n",
              "      <td>31123.0</td>\n",
              "      <td>31123.0</td>\n",
              "      <td>31123.0</td>\n",
              "    </tr>\n",
              "    <tr>\n",
              "      <th>mean</th>\n",
              "      <td>15562.0</td>\n",
              "      <td>4.091678e+17</td>\n",
              "      <td>69.0</td>\n",
              "      <td>48551.0</td>\n",
              "      <td>39.0</td>\n",
              "      <td>-90.0</td>\n",
              "      <td>90132.0</td>\n",
              "      <td>1.372249e+09</td>\n",
              "      <td>39.0</td>\n",
              "      <td>-90.0</td>\n",
              "      <td>0.0</td>\n",
              "    </tr>\n",
              "    <tr>\n",
              "      <th>std</th>\n",
              "      <td>8985.0</td>\n",
              "      <td>1.297193e+18</td>\n",
              "      <td>133.0</td>\n",
              "      <td>26775.0</td>\n",
              "      <td>5.0</td>\n",
              "      <td>14.0</td>\n",
              "      <td>304341.0</td>\n",
              "      <td>2.675250e+05</td>\n",
              "      <td>5.0</td>\n",
              "      <td>14.0</td>\n",
              "      <td>0.0</td>\n",
              "    </tr>\n",
              "    <tr>\n",
              "      <th>min</th>\n",
              "      <td>0.0</td>\n",
              "      <td>6.041621e+10</td>\n",
              "      <td>1.0</td>\n",
              "      <td>1257.0</td>\n",
              "      <td>20.0</td>\n",
              "      <td>-166.0</td>\n",
              "      <td>23.0</td>\n",
              "      <td>1.371817e+09</td>\n",
              "      <td>19.0</td>\n",
              "      <td>-167.0</td>\n",
              "      <td>0.0</td>\n",
              "    </tr>\n",
              "    <tr>\n",
              "      <th>25%</th>\n",
              "      <td>7781.0</td>\n",
              "      <td>1.800429e+14</td>\n",
              "      <td>10.0</td>\n",
              "      <td>25832.0</td>\n",
              "      <td>35.0</td>\n",
              "      <td>-97.0</td>\n",
              "      <td>759.0</td>\n",
              "      <td>1.371992e+09</td>\n",
              "      <td>35.0</td>\n",
              "      <td>-97.0</td>\n",
              "      <td>0.0</td>\n",
              "    </tr>\n",
              "    <tr>\n",
              "      <th>50%</th>\n",
              "      <td>15562.0</td>\n",
              "      <td>3.518669e+15</td>\n",
              "      <td>47.0</td>\n",
              "      <td>48088.0</td>\n",
              "      <td>39.0</td>\n",
              "      <td>-87.0</td>\n",
              "      <td>2457.0</td>\n",
              "      <td>1.372270e+09</td>\n",
              "      <td>39.0</td>\n",
              "      <td>-87.0</td>\n",
              "      <td>0.0</td>\n",
              "    </tr>\n",
              "    <tr>\n",
              "      <th>75%</th>\n",
              "      <td>23342.0</td>\n",
              "      <td>4.610065e+15</td>\n",
              "      <td>83.0</td>\n",
              "      <td>71960.0</td>\n",
              "      <td>42.0</td>\n",
              "      <td>-80.0</td>\n",
              "      <td>20478.0</td>\n",
              "      <td>1.372497e+09</td>\n",
              "      <td>42.0</td>\n",
              "      <td>-80.0</td>\n",
              "      <td>0.0</td>\n",
              "    </tr>\n",
              "    <tr>\n",
              "      <th>max</th>\n",
              "      <td>31123.0</td>\n",
              "      <td>4.992346e+18</td>\n",
              "      <td>6600.0</td>\n",
              "      <td>99783.0</td>\n",
              "      <td>66.0</td>\n",
              "      <td>-68.0</td>\n",
              "      <td>2906700.0</td>\n",
              "      <td>1.372694e+09</td>\n",
              "      <td>67.0</td>\n",
              "      <td>-67.0</td>\n",
              "      <td>1.0</td>\n",
              "    </tr>\n",
              "  </tbody>\n",
              "</table>\n",
              "</div>\n",
              "      <button class=\"colab-df-convert\" onclick=\"convertToInteractive('df-f004f44b-d3fc-464e-8c62-b23b9afee364')\"\n",
              "              title=\"Convert this dataframe to an interactive table.\"\n",
              "              style=\"display:none;\">\n",
              "        \n",
              "  <svg xmlns=\"http://www.w3.org/2000/svg\" height=\"24px\"viewBox=\"0 0 24 24\"\n",
              "       width=\"24px\">\n",
              "    <path d=\"M0 0h24v24H0V0z\" fill=\"none\"/>\n",
              "    <path d=\"M18.56 5.44l.94 2.06.94-2.06 2.06-.94-2.06-.94-.94-2.06-.94 2.06-2.06.94zm-11 1L8.5 8.5l.94-2.06 2.06-.94-2.06-.94L8.5 2.5l-.94 2.06-2.06.94zm10 10l.94 2.06.94-2.06 2.06-.94-2.06-.94-.94-2.06-.94 2.06-2.06.94z\"/><path d=\"M17.41 7.96l-1.37-1.37c-.4-.4-.92-.59-1.43-.59-.52 0-1.04.2-1.43.59L10.3 9.45l-7.72 7.72c-.78.78-.78 2.05 0 2.83L4 21.41c.39.39.9.59 1.41.59.51 0 1.02-.2 1.41-.59l7.78-7.78 2.81-2.81c.8-.78.8-2.07 0-2.86zM5.41 20L4 18.59l7.72-7.72 1.47 1.35L5.41 20z\"/>\n",
              "  </svg>\n",
              "      </button>\n",
              "      \n",
              "  <style>\n",
              "    .colab-df-container {\n",
              "      display:flex;\n",
              "      flex-wrap:wrap;\n",
              "      gap: 12px;\n",
              "    }\n",
              "\n",
              "    .colab-df-convert {\n",
              "      background-color: #E8F0FE;\n",
              "      border: none;\n",
              "      border-radius: 50%;\n",
              "      cursor: pointer;\n",
              "      display: none;\n",
              "      fill: #1967D2;\n",
              "      height: 32px;\n",
              "      padding: 0 0 0 0;\n",
              "      width: 32px;\n",
              "    }\n",
              "\n",
              "    .colab-df-convert:hover {\n",
              "      background-color: #E2EBFA;\n",
              "      box-shadow: 0px 1px 2px rgba(60, 64, 67, 0.3), 0px 1px 3px 1px rgba(60, 64, 67, 0.15);\n",
              "      fill: #174EA6;\n",
              "    }\n",
              "\n",
              "    [theme=dark] .colab-df-convert {\n",
              "      background-color: #3B4455;\n",
              "      fill: #D2E3FC;\n",
              "    }\n",
              "\n",
              "    [theme=dark] .colab-df-convert:hover {\n",
              "      background-color: #434B5C;\n",
              "      box-shadow: 0px 1px 3px 1px rgba(0, 0, 0, 0.15);\n",
              "      filter: drop-shadow(0px 1px 2px rgba(0, 0, 0, 0.3));\n",
              "      fill: #FFFFFF;\n",
              "    }\n",
              "  </style>\n",
              "\n",
              "      <script>\n",
              "        const buttonEl =\n",
              "          document.querySelector('#df-f004f44b-d3fc-464e-8c62-b23b9afee364 button.colab-df-convert');\n",
              "        buttonEl.style.display =\n",
              "          google.colab.kernel.accessAllowed ? 'block' : 'none';\n",
              "\n",
              "        async function convertToInteractive(key) {\n",
              "          const element = document.querySelector('#df-f004f44b-d3fc-464e-8c62-b23b9afee364');\n",
              "          const dataTable =\n",
              "            await google.colab.kernel.invokeFunction('convertToInteractive',\n",
              "                                                     [key], {});\n",
              "          if (!dataTable) return;\n",
              "\n",
              "          const docLinkHtml = 'Like what you see? Visit the ' +\n",
              "            '<a target=\"_blank\" href=https://colab.research.google.com/notebooks/data_table.ipynb>data table notebook</a>'\n",
              "            + ' to learn more about interactive tables.';\n",
              "          element.innerHTML = '';\n",
              "          dataTable['output_type'] = 'display_data';\n",
              "          await google.colab.output.renderOutput(dataTable, element);\n",
              "          const docLink = document.createElement('div');\n",
              "          docLink.innerHTML = docLinkHtml;\n",
              "          element.appendChild(docLink);\n",
              "        }\n",
              "      </script>\n",
              "    </div>\n",
              "  </div>\n",
              "  "
            ]
          },
          "metadata": {},
          "execution_count": 5
        }
      ]
    },
    {
      "cell_type": "code",
      "source": [
        "#checking null values\n",
        "df.isnull().sum()"
      ],
      "metadata": {
        "colab": {
          "base_uri": "https://localhost:8080/"
        },
        "id": "JlTTy_0QlVxp",
        "outputId": "58534a31-e342-4358-9d6e-f6c950c56829"
      },
      "execution_count": null,
      "outputs": [
        {
          "output_type": "execute_result",
          "data": {
            "text/plain": [
              "Unnamed: 0               0\n",
              "trans_date_trans_time    0\n",
              "cc_num                   1\n",
              "merchant                 1\n",
              "category                 1\n",
              "amt                      1\n",
              "first                    1\n",
              "last                     1\n",
              "gender                   1\n",
              "street                   1\n",
              "city                     1\n",
              "state                    1\n",
              "zip                      1\n",
              "lat                      1\n",
              "long                     1\n",
              "city_pop                 1\n",
              "job                      1\n",
              "dob                      1\n",
              "trans_num                1\n",
              "unix_time                1\n",
              "merch_lat                1\n",
              "merch_long               1\n",
              "is_fraud                 1\n",
              "dtype: int64"
            ]
          },
          "metadata": {},
          "execution_count": 6
        }
      ]
    },
    {
      "cell_type": "code",
      "source": [
        "df.head(2)"
      ],
      "metadata": {
        "colab": {
          "base_uri": "https://localhost:8080/",
          "height": 292
        },
        "id": "A0-OM5N5l7x2",
        "outputId": "9759e747-24ab-4c01-c043-40712f54a6c7"
      },
      "execution_count": null,
      "outputs": [
        {
          "output_type": "execute_result",
          "data": {
            "text/plain": [
              "   Unnamed: 0 trans_date_trans_time        cc_num               merchant  \\\n",
              "0           0   2020-06-21 12:14:25  2.291164e+15  fraud_Kirlin and Sons   \n",
              "1           1   2020-06-21 12:14:33  3.573030e+15   fraud_Sporer-Keebler   \n",
              "\n",
              "        category    amt   first      last gender             street  ...  \\\n",
              "0  personal_care   2.86    Jeff   Elliott      M  351 Darlene Green  ...   \n",
              "1  personal_care  29.84  Joanne  Williams      F   3638 Marsh Union  ...   \n",
              "\n",
              "       lat      long  city_pop                     job         dob  \\\n",
              "0  33.9659  -80.9355  333497.0     Mechanical engineer  1968-03-19   \n",
              "1  40.3207 -110.4360     302.0  Sales professional, IT  1990-01-17   \n",
              "\n",
              "                          trans_num     unix_time  merch_lat  merch_long  \\\n",
              "0  2da90c7d74bd46a0caf3777415b3ebd3  1.371817e+09  33.986391  -81.200714   \n",
              "1  324cc204407e99f51b0d6ca0055005e7  1.371817e+09  39.450498 -109.960431   \n",
              "\n",
              "   is_fraud  \n",
              "0       0.0  \n",
              "1       0.0  \n",
              "\n",
              "[2 rows x 23 columns]"
            ],
            "text/html": [
              "\n",
              "  <div id=\"df-18a5f58e-3875-4450-9a3d-c16e56a739c9\">\n",
              "    <div class=\"colab-df-container\">\n",
              "      <div>\n",
              "<style scoped>\n",
              "    .dataframe tbody tr th:only-of-type {\n",
              "        vertical-align: middle;\n",
              "    }\n",
              "\n",
              "    .dataframe tbody tr th {\n",
              "        vertical-align: top;\n",
              "    }\n",
              "\n",
              "    .dataframe thead th {\n",
              "        text-align: right;\n",
              "    }\n",
              "</style>\n",
              "<table border=\"1\" class=\"dataframe\">\n",
              "  <thead>\n",
              "    <tr style=\"text-align: right;\">\n",
              "      <th></th>\n",
              "      <th>Unnamed: 0</th>\n",
              "      <th>trans_date_trans_time</th>\n",
              "      <th>cc_num</th>\n",
              "      <th>merchant</th>\n",
              "      <th>category</th>\n",
              "      <th>amt</th>\n",
              "      <th>first</th>\n",
              "      <th>last</th>\n",
              "      <th>gender</th>\n",
              "      <th>street</th>\n",
              "      <th>...</th>\n",
              "      <th>lat</th>\n",
              "      <th>long</th>\n",
              "      <th>city_pop</th>\n",
              "      <th>job</th>\n",
              "      <th>dob</th>\n",
              "      <th>trans_num</th>\n",
              "      <th>unix_time</th>\n",
              "      <th>merch_lat</th>\n",
              "      <th>merch_long</th>\n",
              "      <th>is_fraud</th>\n",
              "    </tr>\n",
              "  </thead>\n",
              "  <tbody>\n",
              "    <tr>\n",
              "      <th>0</th>\n",
              "      <td>0</td>\n",
              "      <td>2020-06-21 12:14:25</td>\n",
              "      <td>2.291164e+15</td>\n",
              "      <td>fraud_Kirlin and Sons</td>\n",
              "      <td>personal_care</td>\n",
              "      <td>2.86</td>\n",
              "      <td>Jeff</td>\n",
              "      <td>Elliott</td>\n",
              "      <td>M</td>\n",
              "      <td>351 Darlene Green</td>\n",
              "      <td>...</td>\n",
              "      <td>33.9659</td>\n",
              "      <td>-80.9355</td>\n",
              "      <td>333497.0</td>\n",
              "      <td>Mechanical engineer</td>\n",
              "      <td>1968-03-19</td>\n",
              "      <td>2da90c7d74bd46a0caf3777415b3ebd3</td>\n",
              "      <td>1.371817e+09</td>\n",
              "      <td>33.986391</td>\n",
              "      <td>-81.200714</td>\n",
              "      <td>0.0</td>\n",
              "    </tr>\n",
              "    <tr>\n",
              "      <th>1</th>\n",
              "      <td>1</td>\n",
              "      <td>2020-06-21 12:14:33</td>\n",
              "      <td>3.573030e+15</td>\n",
              "      <td>fraud_Sporer-Keebler</td>\n",
              "      <td>personal_care</td>\n",
              "      <td>29.84</td>\n",
              "      <td>Joanne</td>\n",
              "      <td>Williams</td>\n",
              "      <td>F</td>\n",
              "      <td>3638 Marsh Union</td>\n",
              "      <td>...</td>\n",
              "      <td>40.3207</td>\n",
              "      <td>-110.4360</td>\n",
              "      <td>302.0</td>\n",
              "      <td>Sales professional, IT</td>\n",
              "      <td>1990-01-17</td>\n",
              "      <td>324cc204407e99f51b0d6ca0055005e7</td>\n",
              "      <td>1.371817e+09</td>\n",
              "      <td>39.450498</td>\n",
              "      <td>-109.960431</td>\n",
              "      <td>0.0</td>\n",
              "    </tr>\n",
              "  </tbody>\n",
              "</table>\n",
              "<p>2 rows × 23 columns</p>\n",
              "</div>\n",
              "      <button class=\"colab-df-convert\" onclick=\"convertToInteractive('df-18a5f58e-3875-4450-9a3d-c16e56a739c9')\"\n",
              "              title=\"Convert this dataframe to an interactive table.\"\n",
              "              style=\"display:none;\">\n",
              "        \n",
              "  <svg xmlns=\"http://www.w3.org/2000/svg\" height=\"24px\"viewBox=\"0 0 24 24\"\n",
              "       width=\"24px\">\n",
              "    <path d=\"M0 0h24v24H0V0z\" fill=\"none\"/>\n",
              "    <path d=\"M18.56 5.44l.94 2.06.94-2.06 2.06-.94-2.06-.94-.94-2.06-.94 2.06-2.06.94zm-11 1L8.5 8.5l.94-2.06 2.06-.94-2.06-.94L8.5 2.5l-.94 2.06-2.06.94zm10 10l.94 2.06.94-2.06 2.06-.94-2.06-.94-.94-2.06-.94 2.06-2.06.94z\"/><path d=\"M17.41 7.96l-1.37-1.37c-.4-.4-.92-.59-1.43-.59-.52 0-1.04.2-1.43.59L10.3 9.45l-7.72 7.72c-.78.78-.78 2.05 0 2.83L4 21.41c.39.39.9.59 1.41.59.51 0 1.02-.2 1.41-.59l7.78-7.78 2.81-2.81c.8-.78.8-2.07 0-2.86zM5.41 20L4 18.59l7.72-7.72 1.47 1.35L5.41 20z\"/>\n",
              "  </svg>\n",
              "      </button>\n",
              "      \n",
              "  <style>\n",
              "    .colab-df-container {\n",
              "      display:flex;\n",
              "      flex-wrap:wrap;\n",
              "      gap: 12px;\n",
              "    }\n",
              "\n",
              "    .colab-df-convert {\n",
              "      background-color: #E8F0FE;\n",
              "      border: none;\n",
              "      border-radius: 50%;\n",
              "      cursor: pointer;\n",
              "      display: none;\n",
              "      fill: #1967D2;\n",
              "      height: 32px;\n",
              "      padding: 0 0 0 0;\n",
              "      width: 32px;\n",
              "    }\n",
              "\n",
              "    .colab-df-convert:hover {\n",
              "      background-color: #E2EBFA;\n",
              "      box-shadow: 0px 1px 2px rgba(60, 64, 67, 0.3), 0px 1px 3px 1px rgba(60, 64, 67, 0.15);\n",
              "      fill: #174EA6;\n",
              "    }\n",
              "\n",
              "    [theme=dark] .colab-df-convert {\n",
              "      background-color: #3B4455;\n",
              "      fill: #D2E3FC;\n",
              "    }\n",
              "\n",
              "    [theme=dark] .colab-df-convert:hover {\n",
              "      background-color: #434B5C;\n",
              "      box-shadow: 0px 1px 3px 1px rgba(0, 0, 0, 0.15);\n",
              "      filter: drop-shadow(0px 1px 2px rgba(0, 0, 0, 0.3));\n",
              "      fill: #FFFFFF;\n",
              "    }\n",
              "  </style>\n",
              "\n",
              "      <script>\n",
              "        const buttonEl =\n",
              "          document.querySelector('#df-18a5f58e-3875-4450-9a3d-c16e56a739c9 button.colab-df-convert');\n",
              "        buttonEl.style.display =\n",
              "          google.colab.kernel.accessAllowed ? 'block' : 'none';\n",
              "\n",
              "        async function convertToInteractive(key) {\n",
              "          const element = document.querySelector('#df-18a5f58e-3875-4450-9a3d-c16e56a739c9');\n",
              "          const dataTable =\n",
              "            await google.colab.kernel.invokeFunction('convertToInteractive',\n",
              "                                                     [key], {});\n",
              "          if (!dataTable) return;\n",
              "\n",
              "          const docLinkHtml = 'Like what you see? Visit the ' +\n",
              "            '<a target=\"_blank\" href=https://colab.research.google.com/notebooks/data_table.ipynb>data table notebook</a>'\n",
              "            + ' to learn more about interactive tables.';\n",
              "          element.innerHTML = '';\n",
              "          dataTable['output_type'] = 'display_data';\n",
              "          await google.colab.output.renderOutput(dataTable, element);\n",
              "          const docLink = document.createElement('div');\n",
              "          docLink.innerHTML = docLinkHtml;\n",
              "          element.appendChild(docLink);\n",
              "        }\n",
              "      </script>\n",
              "    </div>\n",
              "  </div>\n",
              "  "
            ]
          },
          "metadata": {},
          "execution_count": 9
        }
      ]
    },
    {
      "cell_type": "code",
      "source": [
        "df.tail(2)"
      ],
      "metadata": {
        "colab": {
          "base_uri": "https://localhost:8080/",
          "height": 258
        },
        "id": "q4qwqDarwWGP",
        "outputId": "ca29333e-3c77-4b19-e116-995e0cc97260"
      },
      "execution_count": null,
      "outputs": [
        {
          "output_type": "execute_result",
          "data": {
            "text/plain": [
              "       Unnamed: 0 trans_date_trans_time        cc_num  \\\n",
              "31122       31122   2020-07-01 15:46:50  1.800115e+14   \n",
              "31123       31123       2020-07-01 15:4           NaN   \n",
              "\n",
              "                           merchant     category    amt  first  last gender  \\\n",
              "31122  fraud_Feil, Hilpert and Koss  food_dining  71.46  Craig  Dunn      M   \n",
              "31123                           NaN          NaN    NaN    NaN   NaN    NaN   \n",
              "\n",
              "                      street  ...      lat     long  city_pop  \\\n",
              "31122  721 Jacqueline Brooks  ...  41.2153 -90.9879    1504.0   \n",
              "31123                    NaN  ...      NaN      NaN       NaN   \n",
              "\n",
              "                          job         dob                         trans_num  \\\n",
              "31122  Manufacturing engineer  1993-10-05  af0cd057be001c6669e9712853e64e77   \n",
              "31123                     NaN         NaN                               NaN   \n",
              "\n",
              "          unix_time  merch_lat merch_long  is_fraud  \n",
              "31122  1.372694e+09  40.475453 -90.658514       0.0  \n",
              "31123           NaN        NaN        NaN       NaN  \n",
              "\n",
              "[2 rows x 23 columns]"
            ],
            "text/html": [
              "\n",
              "  <div id=\"df-3b7dc4a6-69e0-4755-9443-b516d15c6a0c\">\n",
              "    <div class=\"colab-df-container\">\n",
              "      <div>\n",
              "<style scoped>\n",
              "    .dataframe tbody tr th:only-of-type {\n",
              "        vertical-align: middle;\n",
              "    }\n",
              "\n",
              "    .dataframe tbody tr th {\n",
              "        vertical-align: top;\n",
              "    }\n",
              "\n",
              "    .dataframe thead th {\n",
              "        text-align: right;\n",
              "    }\n",
              "</style>\n",
              "<table border=\"1\" class=\"dataframe\">\n",
              "  <thead>\n",
              "    <tr style=\"text-align: right;\">\n",
              "      <th></th>\n",
              "      <th>Unnamed: 0</th>\n",
              "      <th>trans_date_trans_time</th>\n",
              "      <th>cc_num</th>\n",
              "      <th>merchant</th>\n",
              "      <th>category</th>\n",
              "      <th>amt</th>\n",
              "      <th>first</th>\n",
              "      <th>last</th>\n",
              "      <th>gender</th>\n",
              "      <th>street</th>\n",
              "      <th>...</th>\n",
              "      <th>lat</th>\n",
              "      <th>long</th>\n",
              "      <th>city_pop</th>\n",
              "      <th>job</th>\n",
              "      <th>dob</th>\n",
              "      <th>trans_num</th>\n",
              "      <th>unix_time</th>\n",
              "      <th>merch_lat</th>\n",
              "      <th>merch_long</th>\n",
              "      <th>is_fraud</th>\n",
              "    </tr>\n",
              "  </thead>\n",
              "  <tbody>\n",
              "    <tr>\n",
              "      <th>31122</th>\n",
              "      <td>31122</td>\n",
              "      <td>2020-07-01 15:46:50</td>\n",
              "      <td>1.800115e+14</td>\n",
              "      <td>fraud_Feil, Hilpert and Koss</td>\n",
              "      <td>food_dining</td>\n",
              "      <td>71.46</td>\n",
              "      <td>Craig</td>\n",
              "      <td>Dunn</td>\n",
              "      <td>M</td>\n",
              "      <td>721 Jacqueline Brooks</td>\n",
              "      <td>...</td>\n",
              "      <td>41.2153</td>\n",
              "      <td>-90.9879</td>\n",
              "      <td>1504.0</td>\n",
              "      <td>Manufacturing engineer</td>\n",
              "      <td>1993-10-05</td>\n",
              "      <td>af0cd057be001c6669e9712853e64e77</td>\n",
              "      <td>1.372694e+09</td>\n",
              "      <td>40.475453</td>\n",
              "      <td>-90.658514</td>\n",
              "      <td>0.0</td>\n",
              "    </tr>\n",
              "    <tr>\n",
              "      <th>31123</th>\n",
              "      <td>31123</td>\n",
              "      <td>2020-07-01 15:4</td>\n",
              "      <td>NaN</td>\n",
              "      <td>NaN</td>\n",
              "      <td>NaN</td>\n",
              "      <td>NaN</td>\n",
              "      <td>NaN</td>\n",
              "      <td>NaN</td>\n",
              "      <td>NaN</td>\n",
              "      <td>NaN</td>\n",
              "      <td>...</td>\n",
              "      <td>NaN</td>\n",
              "      <td>NaN</td>\n",
              "      <td>NaN</td>\n",
              "      <td>NaN</td>\n",
              "      <td>NaN</td>\n",
              "      <td>NaN</td>\n",
              "      <td>NaN</td>\n",
              "      <td>NaN</td>\n",
              "      <td>NaN</td>\n",
              "      <td>NaN</td>\n",
              "    </tr>\n",
              "  </tbody>\n",
              "</table>\n",
              "<p>2 rows × 23 columns</p>\n",
              "</div>\n",
              "      <button class=\"colab-df-convert\" onclick=\"convertToInteractive('df-3b7dc4a6-69e0-4755-9443-b516d15c6a0c')\"\n",
              "              title=\"Convert this dataframe to an interactive table.\"\n",
              "              style=\"display:none;\">\n",
              "        \n",
              "  <svg xmlns=\"http://www.w3.org/2000/svg\" height=\"24px\"viewBox=\"0 0 24 24\"\n",
              "       width=\"24px\">\n",
              "    <path d=\"M0 0h24v24H0V0z\" fill=\"none\"/>\n",
              "    <path d=\"M18.56 5.44l.94 2.06.94-2.06 2.06-.94-2.06-.94-.94-2.06-.94 2.06-2.06.94zm-11 1L8.5 8.5l.94-2.06 2.06-.94-2.06-.94L8.5 2.5l-.94 2.06-2.06.94zm10 10l.94 2.06.94-2.06 2.06-.94-2.06-.94-.94-2.06-.94 2.06-2.06.94z\"/><path d=\"M17.41 7.96l-1.37-1.37c-.4-.4-.92-.59-1.43-.59-.52 0-1.04.2-1.43.59L10.3 9.45l-7.72 7.72c-.78.78-.78 2.05 0 2.83L4 21.41c.39.39.9.59 1.41.59.51 0 1.02-.2 1.41-.59l7.78-7.78 2.81-2.81c.8-.78.8-2.07 0-2.86zM5.41 20L4 18.59l7.72-7.72 1.47 1.35L5.41 20z\"/>\n",
              "  </svg>\n",
              "      </button>\n",
              "      \n",
              "  <style>\n",
              "    .colab-df-container {\n",
              "      display:flex;\n",
              "      flex-wrap:wrap;\n",
              "      gap: 12px;\n",
              "    }\n",
              "\n",
              "    .colab-df-convert {\n",
              "      background-color: #E8F0FE;\n",
              "      border: none;\n",
              "      border-radius: 50%;\n",
              "      cursor: pointer;\n",
              "      display: none;\n",
              "      fill: #1967D2;\n",
              "      height: 32px;\n",
              "      padding: 0 0 0 0;\n",
              "      width: 32px;\n",
              "    }\n",
              "\n",
              "    .colab-df-convert:hover {\n",
              "      background-color: #E2EBFA;\n",
              "      box-shadow: 0px 1px 2px rgba(60, 64, 67, 0.3), 0px 1px 3px 1px rgba(60, 64, 67, 0.15);\n",
              "      fill: #174EA6;\n",
              "    }\n",
              "\n",
              "    [theme=dark] .colab-df-convert {\n",
              "      background-color: #3B4455;\n",
              "      fill: #D2E3FC;\n",
              "    }\n",
              "\n",
              "    [theme=dark] .colab-df-convert:hover {\n",
              "      background-color: #434B5C;\n",
              "      box-shadow: 0px 1px 3px 1px rgba(0, 0, 0, 0.15);\n",
              "      filter: drop-shadow(0px 1px 2px rgba(0, 0, 0, 0.3));\n",
              "      fill: #FFFFFF;\n",
              "    }\n",
              "  </style>\n",
              "\n",
              "      <script>\n",
              "        const buttonEl =\n",
              "          document.querySelector('#df-3b7dc4a6-69e0-4755-9443-b516d15c6a0c button.colab-df-convert');\n",
              "        buttonEl.style.display =\n",
              "          google.colab.kernel.accessAllowed ? 'block' : 'none';\n",
              "\n",
              "        async function convertToInteractive(key) {\n",
              "          const element = document.querySelector('#df-3b7dc4a6-69e0-4755-9443-b516d15c6a0c');\n",
              "          const dataTable =\n",
              "            await google.colab.kernel.invokeFunction('convertToInteractive',\n",
              "                                                     [key], {});\n",
              "          if (!dataTable) return;\n",
              "\n",
              "          const docLinkHtml = 'Like what you see? Visit the ' +\n",
              "            '<a target=\"_blank\" href=https://colab.research.google.com/notebooks/data_table.ipynb>data table notebook</a>'\n",
              "            + ' to learn more about interactive tables.';\n",
              "          element.innerHTML = '';\n",
              "          dataTable['output_type'] = 'display_data';\n",
              "          await google.colab.output.renderOutput(dataTable, element);\n",
              "          const docLink = document.createElement('div');\n",
              "          docLink.innerHTML = docLinkHtml;\n",
              "          element.appendChild(docLink);\n",
              "        }\n",
              "      </script>\n",
              "    </div>\n",
              "  </div>\n",
              "  "
            ]
          },
          "metadata": {},
          "execution_count": 10
        }
      ]
    },
    {
      "cell_type": "markdown",
      "source": [
        "### **Plotting The Graphs**"
      ],
      "metadata": {
        "id": "HYpk41tyTEfN"
      }
    },
    {
      "cell_type": "code",
      "source": [
        "# Plot the histogram\n",
        "df.hist(bins = 30, figsize = (20, 20), color = 'springgreen');"
      ],
      "metadata": {
        "colab": {
          "base_uri": "https://localhost:8080/",
          "height": 933
        },
        "id": "aBhuJyuHfu02",
        "outputId": "356cac6a-5e38-4703-dd80-21300292fdfc"
      },
      "execution_count": null,
      "outputs": [
        {
          "output_type": "display_data",
          "data": {
            "text/plain": [
              "<Figure size 1440x1440 with 12 Axes>"
            ],
            "image/png": "[encoded data removed]"
          },
          "metadata": {
            "needs_background": "light"
          }
        }
      ]
    },
    {
      "cell_type": "code",
      "source": [
        "sns.scatterplot(df[\"amt\"], df[\"zip\"], hue=df[\"is_fraud\"],palette = \"pastel\")\n",
        "plt.show()"
      ],
      "metadata": {
        "colab": {
          "base_uri": "https://localhost:8080/",
          "height": 334
        },
        "id": "eTagwnlxf-p3",
        "outputId": "e32b700a-0552-47c7-f7ba-5bad6888dfaa"
      },
      "execution_count": null,
      "outputs": [
        {
          "output_type": "stream",
          "name": "stderr",
          "text": [
            "/usr/local/lib/python3.8/dist-packages/seaborn/_decorators.py:36: FutureWarning: Pass the following variables as keyword args: x, y. From version 0.12, the only valid positional argument will be `data`, and passing other arguments without an explicit keyword will result in an error or misinterpretation.\n",
            "  warnings.warn(\n"
          ]
        },
        {
          "output_type": "display_data",
          "data": {
            "text/plain": [
              "<Figure size 432x288 with 1 Axes>"
            ],
            "image/png": "[encoded data removed]"
          },
          "metadata": {
            "needs_background": "light"
          }
        }
      ]
    },
    {
      "cell_type": "code",
      "source": [
        "# Plot the correlation matrix\n",
        "\n",
        "plt.figure(figsize = (10,10))\n",
        "corr_matrix = df.corr()\n",
        "sns.heatmap(corr_matrix, annot = True)\n",
        "plt.show()"
      ],
      "metadata": {
        "colab": {
          "base_uri": "https://localhost:8080/",
          "height": 647
        },
        "id": "zcrMVRVN2eMB",
        "outputId": "4c752aaa-3953-4ffa-b6d4-ab47876e8dd9"
      },
      "execution_count": null,
      "outputs": [
        {
          "output_type": "display_data",
          "data": {
            "text/plain": [
              "<Figure size 720x720 with 2 Axes>"
            ],
            "image/png": "[encoded data removed]"
          },
          "metadata": {
            "needs_background": "light"
          }
        }
      ]
    },
    {
      "cell_type": "code",
      "source": [
        "#pie plot\n",
        "df.groupby(['is_fraud']).sum().plot(kind='pie', y='amt', autopct='%1.0f%%')"
      ],
      "metadata": {
        "colab": {
          "base_uri": "https://localhost:8080/",
          "height": 265
        },
        "id": "FyTI_jK6xiou",
        "outputId": "4bb3b04d-8ccb-4b2f-8f16-6f17bcd0897a"
      },
      "execution_count": null,
      "outputs": [
        {
          "output_type": "execute_result",
          "data": {
            "text/plain": [
              "<AxesSubplot:ylabel='amt'>"
            ]
          },
          "metadata": {},
          "execution_count": 12
        },
        {
          "output_type": "display_data",
          "data": {
            "text/plain": [
              "<Figure size 432x288 with 1 Axes>"
            ],
            "image/png": "[encoded data removed]"
          },
          "metadata": {}
        }
      ]
    },
    {
      "cell_type": "markdown",
      "source": [
        "## **NULL Value Rectification**"
      ],
      "metadata": {
        "id": "qo8gxqfST54s"
      }
    },
    {
      "cell_type": "markdown",
      "source": [
        "### **Finding NULL Values**"
      ],
      "metadata": {
        "id": "-IHXwk_AU1Zp"
      }
    },
    {
      "cell_type": "code",
      "source": [
        "df.isnull().sum()"
      ],
      "metadata": {
        "colab": {
          "base_uri": "https://localhost:8080/"
        },
        "id": "MHM0A3LXvAiq",
        "outputId": "5adedaa9-7d5f-4929-ea71-3214a25394e1"
      },
      "execution_count": null,
      "outputs": [
        {
          "output_type": "execute_result",
          "data": {
            "text/plain": [
              "Unnamed: 0               0\n",
              "trans_date_trans_time    0\n",
              "cc_num                   1\n",
              "merchant                 1\n",
              "category                 1\n",
              "amt                      1\n",
              "first                    1\n",
              "last                     1\n",
              "gender                   1\n",
              "street                   1\n",
              "city                     1\n",
              "state                    1\n",
              "zip                      1\n",
              "lat                      1\n",
              "long                     1\n",
              "city_pop                 1\n",
              "job                      1\n",
              "dob                      1\n",
              "trans_num                1\n",
              "unix_time                1\n",
              "merch_lat                1\n",
              "merch_long               1\n",
              "is_fraud                 1\n",
              "dtype: int64"
            ]
          },
          "metadata": {},
          "execution_count": 13
        }
      ]
    },
    {
      "cell_type": "markdown",
      "source": [
        "### **Removing Object Data**"
      ],
      "metadata": {
        "id": "M4v8v_6MUivj"
      }
    },
    {
      "cell_type": "code",
      "source": [
        "#removing objects and keeping numeric data\n",
        "df2 = df.drop(columns = ['trans_date_trans_time','merchant','category','first',\n",
        "                         'last','gender','street','city','state','job','dob','trans_num'])"
      ],
      "metadata": {
        "id": "7-MbpO7PIXg-"
      },
      "execution_count": null,
      "outputs": []
    },
    {
      "cell_type": "code",
      "source": [
        "df2.shape\n"
      ],
      "metadata": {
        "colab": {
          "base_uri": "https://localhost:8080/"
        },
        "id": "FSszWJndWDYH",
        "outputId": "1128ad85-7cd2-4865-c6bc-4912b798074b"
      },
      "execution_count": null,
      "outputs": [
        {
          "output_type": "execute_result",
          "data": {
            "text/plain": [
              "(31124, 11)"
            ]
          },
          "metadata": {},
          "execution_count": 15
        }
      ]
    },
    {
      "cell_type": "code",
      "source": [
        "df.shape"
      ],
      "metadata": {
        "colab": {
          "base_uri": "https://localhost:8080/"
        },
        "id": "wZvqHbFTWhBl",
        "outputId": "9f545edf-c22c-46d6-ba8f-a758a9704b03"
      },
      "execution_count": null,
      "outputs": [
        {
          "output_type": "execute_result",
          "data": {
            "text/plain": [
              "(31124, 23)"
            ]
          },
          "metadata": {},
          "execution_count": 16
        }
      ]
    },
    {
      "cell_type": "code",
      "source": [
        "df2.isnull().sum()"
      ],
      "metadata": {
        "colab": {
          "base_uri": "https://localhost:8080/"
        },
        "id": "r3gTzpcHI9JL",
        "outputId": "27517d74-1ae0-49eb-b792-1b0dc0b42542"
      },
      "execution_count": null,
      "outputs": [
        {
          "output_type": "execute_result",
          "data": {
            "text/plain": [
              "Unnamed: 0    0\n",
              "cc_num        1\n",
              "amt           1\n",
              "zip           1\n",
              "lat           1\n",
              "long          1\n",
              "city_pop      1\n",
              "unix_time     1\n",
              "merch_lat     1\n",
              "merch_long    1\n",
              "is_fraud      1\n",
              "dtype: int64"
            ]
          },
          "metadata": {},
          "execution_count": 17
        }
      ]
    },
    {
      "cell_type": "markdown",
      "source": [
        "### **Dataset after removing the object**"
      ],
      "metadata": {
        "id": "BzX4H4TlVME_"
      }
    },
    {
      "cell_type": "code",
      "source": [
        "df2.info()"
      ],
      "metadata": {
        "colab": {
          "base_uri": "https://localhost:8080/"
        },
        "id": "BEAlDUvAUKe8",
        "outputId": "71ab3fbf-d9a6-4eee-e17d-5ae288e98e03"
      },
      "execution_count": null,
      "outputs": [
        {
          "output_type": "stream",
          "name": "stdout",
          "text": [
            "<class 'pandas.core.frame.DataFrame'>\n",
            "RangeIndex: 31124 entries, 0 to 31123\n",
            "Data columns (total 11 columns):\n",
            " #   Column      Non-Null Count  Dtype  \n",
            "---  ------      --------------  -----  \n",
            " 0   Unnamed: 0  31124 non-null  int64  \n",
            " 1   cc_num      31123 non-null  float64\n",
            " 2   amt         31123 non-null  float64\n",
            " 3   zip         31123 non-null  float64\n",
            " 4   lat         31123 non-null  float64\n",
            " 5   long        31123 non-null  float64\n",
            " 6   city_pop    31123 non-null  float64\n",
            " 7   unix_time   31123 non-null  float64\n",
            " 8   merch_lat   31123 non-null  float64\n",
            " 9   merch_long  31123 non-null  float64\n",
            " 10  is_fraud    31123 non-null  float64\n",
            "dtypes: float64(10), int64(1)\n",
            "memory usage: 2.6 MB\n"
          ]
        }
      ]
    },
    {
      "cell_type": "markdown",
      "source": [
        "### **Filling the Dataset null values with weighted means**"
      ],
      "metadata": {
        "id": "uuSeAv6CVwlT"
      }
    },
    {
      "cell_type": "code",
      "source": [
        "df2['cc_num'].fillna(int(df2['cc_num'].mean()), inplace=True)\n",
        "df2['amt'].fillna(int(df2['amt'].mean()), inplace=True)\n",
        "df2['zip'].fillna(int(df2['zip'].mean()), inplace=True)\n",
        "df2['lat'].fillna(int(df2['lat'].mean()), inplace=True)\n",
        "df2['long'].fillna(int(df2['long'].mean()), inplace=True)\n",
        "df2['city_pop'].fillna(int(df2['city_pop'].mean()), inplace=True)\n",
        "df2['unix_time'].fillna(int(df2['unix_time'].mean()), inplace=True)\n",
        "df2['merch_lat'].fillna(int(df2['merch_lat'].mean()), inplace=True)\n",
        "df2['merch_long'].fillna(int(df2['merch_long'].mean()), inplace=True)\n",
        "df2['is_fraud'].fillna(int(df2['is_fraud'].mean()), inplace=True)"
      ],
      "metadata": {
        "id": "OTU24_AILBzV"
      },
      "execution_count": null,
      "outputs": []
    },
    {
      "cell_type": "code",
      "source": [
        "df2.isnull().sum()"
      ],
      "metadata": {
        "colab": {
          "base_uri": "https://localhost:8080/"
        },
        "id": "lDvI9d5nLuKP",
        "outputId": "f081b4c6-5847-435f-c791-9bce569b6b7e"
      },
      "execution_count": null,
      "outputs": [
        {
          "output_type": "execute_result",
          "data": {
            "text/plain": [
              "Unnamed: 0    0\n",
              "cc_num        0\n",
              "amt           0\n",
              "zip           0\n",
              "lat           0\n",
              "long          0\n",
              "city_pop      0\n",
              "unix_time     0\n",
              "merch_lat     0\n",
              "merch_long    0\n",
              "is_fraud      0\n",
              "dtype: int64"
            ]
          },
          "metadata": {},
          "execution_count": 20
        }
      ]
    },
    {
      "cell_type": "code",
      "source": [
        "df2"
      ],
      "metadata": {
        "colab": {
          "base_uri": "https://localhost:8080/"
        },
        "id": "-ggMvt30KL8E",
        "outputId": "f9d09da9-1f89-47e7-b24d-025b1f200b41"
      },
      "execution_count": null,
      "outputs": [
        {
          "output_type": "execute_result",
          "data": {
            "text/plain": [
              "       Unnamed: 0        cc_num    amt      zip      lat      long  city_pop  \\\n",
              "0               0  2.291164e+15   2.86  29209.0  33.9659  -80.9355  333497.0   \n",
              "1               1  3.573030e+15  29.84  84002.0  40.3207 -110.4360     302.0   \n",
              "2               2  3.598215e+15  41.28  11710.0  40.6729  -73.5365   34496.0   \n",
              "3               3  3.591920e+15  60.05  32780.0  28.5697  -80.8191   54767.0   \n",
              "4               4  3.526826e+15   3.19  49632.0  44.2529  -85.0170    1126.0   \n",
              "...           ...           ...    ...      ...      ...       ...       ...   \n",
              "31119       31119  4.698164e+15   1.78  96136.0  40.3406 -120.2824     104.0   \n",
              "31120       31120  3.553629e+15  36.63  98238.0  48.3400 -122.3456      85.0   \n",
              "31121       31121  4.906629e+18   9.20  33040.0  24.6557  -81.3824   32891.0   \n",
              "31122       31122  1.800115e+14  71.46  61272.0  41.2153  -90.9879    1504.0   \n",
              "31123       31123  4.091678e+17  69.00  48550.0  38.0000  -90.0000   90131.0   \n",
              "\n",
              "          unix_time  merch_lat  merch_long  is_fraud  \n",
              "0      1.371817e+09  33.986391  -81.200714       0.0  \n",
              "1      1.371817e+09  39.450498 -109.960431       0.0  \n",
              "2      1.371817e+09  40.495810  -74.196111       0.0  \n",
              "3      1.371817e+09  28.812398  -80.883061       0.0  \n",
              "4      1.371817e+09  44.959148  -85.884734       0.0  \n",
              "...             ...        ...         ...       ...  \n",
              "31119  1.372693e+09  41.106660 -121.106664       0.0  \n",
              "31120  1.372694e+09  48.449360 -122.128530       0.0  \n",
              "31121  1.372694e+09  24.880999  -80.524712       0.0  \n",
              "31122  1.372694e+09  40.475453  -90.658514       0.0  \n",
              "31123  1.372249e+09  38.000000  -90.000000       0.0  \n",
              "\n",
              "[31124 rows x 11 columns]"
            ],
            "text/html": [
              "\n",
              "  <div id=\"df-38a4be17-2c12-41b8-9124-e94b8b82e2da\">\n",
              "    <div class=\"colab-df-container\">\n",
              "      <div>\n",
              "<style scoped>\n",
              "    .dataframe tbody tr th:only-of-type {\n",
              "        vertical-align: middle;\n",
              "    }\n",
              "\n",
              "    .dataframe tbody tr th {\n",
              "        vertical-align: top;\n",
              "    }\n",
              "\n",
              "    .dataframe thead th {\n",
              "        text-align: right;\n",
              "    }\n",
              "</style>\n",
              "<table border=\"1\" class=\"dataframe\">\n",
              "  <thead>\n",
              "    <tr style=\"text-align: right;\">\n",
              "      <th></th>\n",
              "      <th>Unnamed: 0</th>\n",
              "      <th>cc_num</th>\n",
              "      <th>amt</th>\n",
              "      <th>zip</th>\n",
              "      <th>lat</th>\n",
              "      <th>long</th>\n",
              "      <th>city_pop</th>\n",
              "      <th>unix_time</th>\n",
              "      <th>merch_lat</th>\n",
              "      <th>merch_long</th>\n",
              "      <th>is_fraud</th>\n",
              "    </tr>\n",
              "  </thead>\n",
              "  <tbody>\n",
              "    <tr>\n",
              "      <th>0</th>\n",
              "      <td>0</td>\n",
              "      <td>2.291164e+15</td>\n",
              "      <td>2.86</td>\n",
              "      <td>29209.0</td>\n",
              "      <td>33.9659</td>\n",
              "      <td>-80.9355</td>\n",
              "      <td>333497.0</td>\n",
              "      <td>1.371817e+09</td>\n",
              "      <td>33.986391</td>\n",
              "      <td>-81.200714</td>\n",
              "      <td>0.0</td>\n",
              "    </tr>\n",
              "    <tr>\n",
              "      <th>1</th>\n",
              "      <td>1</td>\n",
              "      <td>3.573030e+15</td>\n",
              "      <td>29.84</td>\n",
              "      <td>84002.0</td>\n",
              "      <td>40.3207</td>\n",
              "      <td>-110.4360</td>\n",
              "      <td>302.0</td>\n",
              "      <td>1.371817e+09</td>\n",
              "      <td>39.450498</td>\n",
              "      <td>-109.960431</td>\n",
              "      <td>0.0</td>\n",
              "    </tr>\n",
              "    <tr>\n",
              "      <th>2</th>\n",
              "      <td>2</td>\n",
              "      <td>3.598215e+15</td>\n",
              "      <td>41.28</td>\n",
              "      <td>11710.0</td>\n",
              "      <td>40.6729</td>\n",
              "      <td>-73.5365</td>\n",
              "      <td>34496.0</td>\n",
              "      <td>1.371817e+09</td>\n",
              "      <td>40.495810</td>\n",
              "      <td>-74.196111</td>\n",
              "      <td>0.0</td>\n",
              "    </tr>\n",
              "    <tr>\n",
              "      <th>3</th>\n",
              "      <td>3</td>\n",
              "      <td>3.591920e+15</td>\n",
              "      <td>60.05</td>\n",
              "      <td>32780.0</td>\n",
              "      <td>28.5697</td>\n",
              "      <td>-80.8191</td>\n",
              "      <td>54767.0</td>\n",
              "      <td>1.371817e+09</td>\n",
              "      <td>28.812398</td>\n",
              "      <td>-80.883061</td>\n",
              "      <td>0.0</td>\n",
              "    </tr>\n",
              "    <tr>\n",
              "      <th>4</th>\n",
              "      <td>4</td>\n",
              "      <td>3.526826e+15</td>\n",
              "      <td>3.19</td>\n",
              "      <td>49632.0</td>\n",
              "      <td>44.2529</td>\n",
              "      <td>-85.0170</td>\n",
              "      <td>1126.0</td>\n",
              "      <td>1.371817e+09</td>\n",
              "      <td>44.959148</td>\n",
              "      <td>-85.884734</td>\n",
              "      <td>0.0</td>\n",
              "    </tr>\n",
              "    <tr>\n",
              "      <th>...</th>\n",
              "      <td>...</td>\n",
              "      <td>...</td>\n",
              "      <td>...</td>\n",
              "      <td>...</td>\n",
              "      <td>...</td>\n",
              "      <td>...</td>\n",
              "      <td>...</td>\n",
              "      <td>...</td>\n",
              "      <td>...</td>\n",
              "      <td>...</td>\n",
              "      <td>...</td>\n",
              "    </tr>\n",
              "    <tr>\n",
              "      <th>31119</th>\n",
              "      <td>31119</td>\n",
              "      <td>4.698164e+15</td>\n",
              "      <td>1.78</td>\n",
              "      <td>96136.0</td>\n",
              "      <td>40.3406</td>\n",
              "      <td>-120.2824</td>\n",
              "      <td>104.0</td>\n",
              "      <td>1.372693e+09</td>\n",
              "      <td>41.106660</td>\n",
              "      <td>-121.106664</td>\n",
              "      <td>0.0</td>\n",
              "    </tr>\n",
              "    <tr>\n",
              "      <th>31120</th>\n",
              "      <td>31120</td>\n",
              "      <td>3.553629e+15</td>\n",
              "      <td>36.63</td>\n",
              "      <td>98238.0</td>\n",
              "      <td>48.3400</td>\n",
              "      <td>-122.3456</td>\n",
              "      <td>85.0</td>\n",
              "      <td>1.372694e+09</td>\n",
              "      <td>48.449360</td>\n",
              "      <td>-122.128530</td>\n",
              "      <td>0.0</td>\n",
              "    </tr>\n",
              "    <tr>\n",
              "      <th>31121</th>\n",
              "      <td>31121</td>\n",
              "      <td>4.906629e+18</td>\n",
              "      <td>9.20</td>\n",
              "      <td>33040.0</td>\n",
              "      <td>24.6557</td>\n",
              "      <td>-81.3824</td>\n",
              "      <td>32891.0</td>\n",
              "      <td>1.372694e+09</td>\n",
              "      <td>24.880999</td>\n",
              "      <td>-80.524712</td>\n",
              "      <td>0.0</td>\n",
              "    </tr>\n",
              "    <tr>\n",
              "      <th>31122</th>\n",
              "      <td>31122</td>\n",
              "      <td>1.800115e+14</td>\n",
              "      <td>71.46</td>\n",
              "      <td>61272.0</td>\n",
              "      <td>41.2153</td>\n",
              "      <td>-90.9879</td>\n",
              "      <td>1504.0</td>\n",
              "      <td>1.372694e+09</td>\n",
              "      <td>40.475453</td>\n",
              "      <td>-90.658514</td>\n",
              "      <td>0.0</td>\n",
              "    </tr>\n",
              "    <tr>\n",
              "      <th>31123</th>\n",
              "      <td>31123</td>\n",
              "      <td>4.091678e+17</td>\n",
              "      <td>69.00</td>\n",
              "      <td>48550.0</td>\n",
              "      <td>38.0000</td>\n",
              "      <td>-90.0000</td>\n",
              "      <td>90131.0</td>\n",
              "      <td>1.372249e+09</td>\n",
              "      <td>38.000000</td>\n",
              "      <td>-90.000000</td>\n",
              "      <td>0.0</td>\n",
              "    </tr>\n",
              "  </tbody>\n",
              "</table>\n",
              "<p>31124 rows × 11 columns</p>\n",
              "</div>\n",
              "      <button class=\"colab-df-convert\" onclick=\"convertToInteractive('df-38a4be17-2c12-41b8-9124-e94b8b82e2da')\"\n",
              "              title=\"Convert this dataframe to an interactive table.\"\n",
              "              style=\"display:none;\">\n",
              "        \n",
              "  <svg xmlns=\"http://www.w3.org/2000/svg\" height=\"24px\"viewBox=\"0 0 24 24\"\n",
              "       width=\"24px\">\n",
              "    <path d=\"M0 0h24v24H0V0z\" fill=\"none\"/>\n",
              "    <path d=\"M18.56 5.44l.94 2.06.94-2.06 2.06-.94-2.06-.94-.94-2.06-.94 2.06-2.06.94zm-11 1L8.5 8.5l.94-2.06 2.06-.94-2.06-.94L8.5 2.5l-.94 2.06-2.06.94zm10 10l.94 2.06.94-2.06 2.06-.94-2.06-.94-.94-2.06-.94 2.06-2.06.94z\"/><path d=\"M17.41 7.96l-1.37-1.37c-.4-.4-.92-.59-1.43-.59-.52 0-1.04.2-1.43.59L10.3 9.45l-7.72 7.72c-.78.78-.78 2.05 0 2.83L4 21.41c.39.39.9.59 1.41.59.51 0 1.02-.2 1.41-.59l7.78-7.78 2.81-2.81c.8-.78.8-2.07 0-2.86zM5.41 20L4 18.59l7.72-7.72 1.47 1.35L5.41 20z\"/>\n",
              "  </svg>\n",
              "      </button>\n",
              "      \n",
              "  <style>\n",
              "    .colab-df-container {\n",
              "      display:flex;\n",
              "      flex-wrap:wrap;\n",
              "      gap: 12px;\n",
              "    }\n",
              "\n",
              "    .colab-df-convert {\n",
              "      background-color: #E8F0FE;\n",
              "      border: none;\n",
              "      border-radius: 50%;\n",
              "      cursor: pointer;\n",
              "      display: none;\n",
              "      fill: #1967D2;\n",
              "      height: 32px;\n",
              "      padding: 0 0 0 0;\n",
              "      width: 32px;\n",
              "    }\n",
              "\n",
              "    .colab-df-convert:hover {\n",
              "      background-color: #E2EBFA;\n",
              "      box-shadow: 0px 1px 2px rgba(60, 64, 67, 0.3), 0px 1px 3px 1px rgba(60, 64, 67, 0.15);\n",
              "      fill: #174EA6;\n",
              "    }\n",
              "\n",
              "    [theme=dark] .colab-df-convert {\n",
              "      background-color: #3B4455;\n",
              "      fill: #D2E3FC;\n",
              "    }\n",
              "\n",
              "    [theme=dark] .colab-df-convert:hover {\n",
              "      background-color: #434B5C;\n",
              "      box-shadow: 0px 1px 3px 1px rgba(0, 0, 0, 0.15);\n",
              "      filter: drop-shadow(0px 1px 2px rgba(0, 0, 0, 0.3));\n",
              "      fill: #FFFFFF;\n",
              "    }\n",
              "  </style>\n",
              "\n",
              "      <script>\n",
              "        const buttonEl =\n",
              "          document.querySelector('#df-38a4be17-2c12-41b8-9124-e94b8b82e2da button.colab-df-convert');\n",
              "        buttonEl.style.display =\n",
              "          google.colab.kernel.accessAllowed ? 'block' : 'none';\n",
              "\n",
              "        async function convertToInteractive(key) {\n",
              "          const element = document.querySelector('#df-38a4be17-2c12-41b8-9124-e94b8b82e2da');\n",
              "          const dataTable =\n",
              "            await google.colab.kernel.invokeFunction('convertToInteractive',\n",
              "                                                     [key], {});\n",
              "          if (!dataTable) return;\n",
              "\n",
              "          const docLinkHtml = 'Like what you see? Visit the ' +\n",
              "            '<a target=\"_blank\" href=https://colab.research.google.com/notebooks/data_table.ipynb>data table notebook</a>'\n",
              "            + ' to learn more about interactive tables.';\n",
              "          element.innerHTML = '';\n",
              "          dataTable['output_type'] = 'display_data';\n",
              "          await google.colab.output.renderOutput(dataTable, element);\n",
              "          const docLink = document.createElement('div');\n",
              "          docLink.innerHTML = docLinkHtml;\n",
              "          element.appendChild(docLink);\n",
              "        }\n",
              "      </script>\n",
              "    </div>\n",
              "  </div>\n",
              "  "
            ]
          },
          "metadata": {},
          "execution_count": 21
        }
      ]
    },
    {
      "cell_type": "code",
      "source": [
        "df2.info()"
      ],
      "metadata": {
        "colab": {
          "base_uri": "https://localhost:8080/"
        },
        "id": "mKZK9aUuUPw-",
        "outputId": "d87131c2-8b0b-4583-836e-63c45c8fba72"
      },
      "execution_count": null,
      "outputs": [
        {
          "output_type": "stream",
          "name": "stdout",
          "text": [
            "<class 'pandas.core.frame.DataFrame'>\n",
            "RangeIndex: 31124 entries, 0 to 31123\n",
            "Data columns (total 11 columns):\n",
            " #   Column      Non-Null Count  Dtype  \n",
            "---  ------      --------------  -----  \n",
            " 0   Unnamed: 0  31124 non-null  int64  \n",
            " 1   cc_num      31124 non-null  float64\n",
            " 2   amt         31124 non-null  float64\n",
            " 3   zip         31124 non-null  float64\n",
            " 4   lat         31124 non-null  float64\n",
            " 5   long        31124 non-null  float64\n",
            " 6   city_pop    31124 non-null  float64\n",
            " 7   unix_time   31124 non-null  float64\n",
            " 8   merch_lat   31124 non-null  float64\n",
            " 9   merch_long  31124 non-null  float64\n",
            " 10  is_fraud    31124 non-null  float64\n",
            "dtypes: float64(10), int64(1)\n",
            "memory usage: 2.6 MB\n"
          ]
        }
      ]
    },
    {
      "cell_type": "markdown",
      "source": [
        "## **Building a model**"
      ],
      "metadata": {
        "id": "4p--MsCSV9IV"
      }
    },
    {
      "cell_type": "markdown",
      "source": [
        "### **Creating Training and Testing Dataset**"
      ],
      "metadata": {
        "id": "30KxMonNWDWw"
      }
    },
    {
      "cell_type": "code",
      "source": [
        "# Create train and test data\n",
        "\n",
        "X = df2.drop(columns = ['is_fraud'])\n",
        "y = df2[['is_fraud']]"
      ],
      "metadata": {
        "id": "Uvyv05CT3cJn"
      },
      "execution_count": null,
      "outputs": []
    },
    {
      "cell_type": "code",
      "source": [
        "X"
      ],
      "metadata": {
        "id": "tjABiy5D3wCc"
      },
      "execution_count": null,
      "outputs": []
    },
    {
      "cell_type": "code",
      "source": [
        "y"
      ],
      "metadata": {
        "colab": {
          "base_uri": "https://localhost:8080/"
        },
        "id": "uDyJS04q3_Qh",
        "outputId": "69b8b957-1b5a-4ebd-ebe3-663954ee7d7c"
      },
      "execution_count": null,
      "outputs": [
        {
          "output_type": "execute_result",
          "data": {
            "text/plain": [
              "       is_fraud\n",
              "0           0.0\n",
              "1           0.0\n",
              "2           0.0\n",
              "3           0.0\n",
              "4           0.0\n",
              "...         ...\n",
              "31119       0.0\n",
              "31120       0.0\n",
              "31121       0.0\n",
              "31122       0.0\n",
              "31123       0.0\n",
              "\n",
              "[31124 rows x 1 columns]"
            ],
            "text/html": [
              "\n",
              "  <div id=\"df-e6cbb0c6-964f-484c-bf62-7c568a624008\">\n",
              "    <div class=\"colab-df-container\">\n",
              "      <div>\n",
              "<style scoped>\n",
              "    .dataframe tbody tr th:only-of-type {\n",
              "        vertical-align: middle;\n",
              "    }\n",
              "\n",
              "    .dataframe tbody tr th {\n",
              "        vertical-align: top;\n",
              "    }\n",
              "\n",
              "    .dataframe thead th {\n",
              "        text-align: right;\n",
              "    }\n",
              "</style>\n",
              "<table border=\"1\" class=\"dataframe\">\n",
              "  <thead>\n",
              "    <tr style=\"text-align: right;\">\n",
              "      <th></th>\n",
              "      <th>is_fraud</th>\n",
              "    </tr>\n",
              "  </thead>\n",
              "  <tbody>\n",
              "    <tr>\n",
              "      <th>0</th>\n",
              "      <td>0.0</td>\n",
              "    </tr>\n",
              "    <tr>\n",
              "      <th>1</th>\n",
              "      <td>0.0</td>\n",
              "    </tr>\n",
              "    <tr>\n",
              "      <th>2</th>\n",
              "      <td>0.0</td>\n",
              "    </tr>\n",
              "    <tr>\n",
              "      <th>3</th>\n",
              "      <td>0.0</td>\n",
              "    </tr>\n",
              "    <tr>\n",
              "      <th>4</th>\n",
              "      <td>0.0</td>\n",
              "    </tr>\n",
              "    <tr>\n",
              "      <th>...</th>\n",
              "      <td>...</td>\n",
              "    </tr>\n",
              "    <tr>\n",
              "      <th>31119</th>\n",
              "      <td>0.0</td>\n",
              "    </tr>\n",
              "    <tr>\n",
              "      <th>31120</th>\n",
              "      <td>0.0</td>\n",
              "    </tr>\n",
              "    <tr>\n",
              "      <th>31121</th>\n",
              "      <td>0.0</td>\n",
              "    </tr>\n",
              "    <tr>\n",
              "      <th>31122</th>\n",
              "      <td>0.0</td>\n",
              "    </tr>\n",
              "    <tr>\n",
              "      <th>31123</th>\n",
              "      <td>0.0</td>\n",
              "    </tr>\n",
              "  </tbody>\n",
              "</table>\n",
              "<p>31124 rows × 1 columns</p>\n",
              "</div>\n",
              "      <button class=\"colab-df-convert\" onclick=\"convertToInteractive('df-e6cbb0c6-964f-484c-bf62-7c568a624008')\"\n",
              "              title=\"Convert this dataframe to an interactive table.\"\n",
              "              style=\"display:none;\">\n",
              "        \n",
              "  <svg xmlns=\"http://www.w3.org/2000/svg\" height=\"24px\"viewBox=\"0 0 24 24\"\n",
              "       width=\"24px\">\n",
              "    <path d=\"M0 0h24v24H0V0z\" fill=\"none\"/>\n",
              "    <path d=\"M18.56 5.44l.94 2.06.94-2.06 2.06-.94-2.06-.94-.94-2.06-.94 2.06-2.06.94zm-11 1L8.5 8.5l.94-2.06 2.06-.94-2.06-.94L8.5 2.5l-.94 2.06-2.06.94zm10 10l.94 2.06.94-2.06 2.06-.94-2.06-.94-.94-2.06-.94 2.06-2.06.94z\"/><path d=\"M17.41 7.96l-1.37-1.37c-.4-.4-.92-.59-1.43-.59-.52 0-1.04.2-1.43.59L10.3 9.45l-7.72 7.72c-.78.78-.78 2.05 0 2.83L4 21.41c.39.39.9.59 1.41.59.51 0 1.02-.2 1.41-.59l7.78-7.78 2.81-2.81c.8-.78.8-2.07 0-2.86zM5.41 20L4 18.59l7.72-7.72 1.47 1.35L5.41 20z\"/>\n",
              "  </svg>\n",
              "      </button>\n",
              "      \n",
              "  <style>\n",
              "    .colab-df-container {\n",
              "      display:flex;\n",
              "      flex-wrap:wrap;\n",
              "      gap: 12px;\n",
              "    }\n",
              "\n",
              "    .colab-df-convert {\n",
              "      background-color: #E8F0FE;\n",
              "      border: none;\n",
              "      border-radius: 50%;\n",
              "      cursor: pointer;\n",
              "      display: none;\n",
              "      fill: #1967D2;\n",
              "      height: 32px;\n",
              "      padding: 0 0 0 0;\n",
              "      width: 32px;\n",
              "    }\n",
              "\n",
              "    .colab-df-convert:hover {\n",
              "      background-color: #E2EBFA;\n",
              "      box-shadow: 0px 1px 2px rgba(60, 64, 67, 0.3), 0px 1px 3px 1px rgba(60, 64, 67, 0.15);\n",
              "      fill: #174EA6;\n",
              "    }\n",
              "\n",
              "    [theme=dark] .colab-df-convert {\n",
              "      background-color: #3B4455;\n",
              "      fill: #D2E3FC;\n",
              "    }\n",
              "\n",
              "    [theme=dark] .colab-df-convert:hover {\n",
              "      background-color: #434B5C;\n",
              "      box-shadow: 0px 1px 3px 1px rgba(0, 0, 0, 0.15);\n",
              "      filter: drop-shadow(0px 1px 2px rgba(0, 0, 0, 0.3));\n",
              "      fill: #FFFFFF;\n",
              "    }\n",
              "  </style>\n",
              "\n",
              "      <script>\n",
              "        const buttonEl =\n",
              "          document.querySelector('#df-e6cbb0c6-964f-484c-bf62-7c568a624008 button.colab-df-convert');\n",
              "        buttonEl.style.display =\n",
              "          google.colab.kernel.accessAllowed ? 'block' : 'none';\n",
              "\n",
              "        async function convertToInteractive(key) {\n",
              "          const element = document.querySelector('#df-e6cbb0c6-964f-484c-bf62-7c568a624008');\n",
              "          const dataTable =\n",
              "            await google.colab.kernel.invokeFunction('convertToInteractive',\n",
              "                                                     [key], {});\n",
              "          if (!dataTable) return;\n",
              "\n",
              "          const docLinkHtml = 'Like what you see? Visit the ' +\n",
              "            '<a target=\"_blank\" href=https://colab.research.google.com/notebooks/data_table.ipynb>data table notebook</a>'\n",
              "            + ' to learn more about interactive tables.';\n",
              "          element.innerHTML = '';\n",
              "          dataTable['output_type'] = 'display_data';\n",
              "          await google.colab.output.renderOutput(dataTable, element);\n",
              "          const docLink = document.createElement('div');\n",
              "          docLink.innerHTML = docLinkHtml;\n",
              "          element.appendChild(docLink);\n",
              "        }\n",
              "      </script>\n",
              "    </div>\n",
              "  </div>\n",
              "  "
            ]
          },
          "metadata": {},
          "execution_count": 25
        }
      ]
    },
    {
      "cell_type": "code",
      "source": [
        "X.shape"
      ],
      "metadata": {
        "colab": {
          "base_uri": "https://localhost:8080/"
        },
        "id": "vRNtra4u4CC_",
        "outputId": "e254b3e5-0d62-40cc-ee1e-e83517005a5b"
      },
      "execution_count": null,
      "outputs": [
        {
          "output_type": "execute_result",
          "data": {
            "text/plain": [
              "(31124, 10)"
            ]
          },
          "metadata": {},
          "execution_count": 26
        }
      ]
    },
    {
      "cell_type": "code",
      "source": [
        "y.shape"
      ],
      "metadata": {
        "colab": {
          "base_uri": "https://localhost:8080/"
        },
        "id": "ehiVjsYK4GkZ",
        "outputId": "84819d58-9ca8-47da-d387-74e55d58a16a"
      },
      "execution_count": null,
      "outputs": [
        {
          "output_type": "execute_result",
          "data": {
            "text/plain": [
              "(31124, 1)"
            ]
          },
          "metadata": {},
          "execution_count": 27
        }
      ]
    },
    {
      "cell_type": "code",
      "source": [
        "df2.isnull().sum()"
      ],
      "metadata": {
        "colab": {
          "base_uri": "https://localhost:8080/"
        },
        "id": "PE1JTDtdxDkL",
        "outputId": "37d357ad-4c3b-4509-9b62-13409f656906"
      },
      "execution_count": null,
      "outputs": [
        {
          "output_type": "execute_result",
          "data": {
            "text/plain": [
              "Unnamed: 0    0\n",
              "cc_num        0\n",
              "amt           0\n",
              "zip           0\n",
              "lat           0\n",
              "long          0\n",
              "city_pop      0\n",
              "unix_time     0\n",
              "merch_lat     0\n",
              "merch_long    0\n",
              "is_fraud      0\n",
              "dtype: int64"
            ]
          },
          "metadata": {},
          "execution_count": 28
        }
      ]
    },
    {
      "cell_type": "markdown",
      "source": [
        "### **Displaying the Fraud v/s Not Fraud Data**"
      ],
      "metadata": {
        "id": "UlLXUZZZW8Fs"
      }
    },
    {
      "cell_type": "code",
      "source": [
        "print ('Not Fraud % ',round(df['is_fraud'].value_counts()[0]/len(df)*100,2))\n",
        "print ()\n",
        "print (round(df.amt[df.is_fraud == 0].describe(),2))\n",
        "print ()\n",
        "print ()\n",
        "print ('Fraud %    ',round(df['is_fraud'].value_counts()[1]/len(df)*100,2))\n",
        "print ()\n",
        "print (round(df.amt[df.is_fraud == 1].describe(),2))"
      ],
      "metadata": {
        "colab": {
          "base_uri": "https://localhost:8080/"
        },
        "id": "J58Rz_QX0VeG",
        "outputId": "34366231-accf-4e5e-e6f5-1cece927334f"
      },
      "execution_count": null,
      "outputs": [
        {
          "output_type": "stream",
          "name": "stdout",
          "text": [
            "Not Fraud %  99.56\n",
            "\n",
            "count    30988.00\n",
            "mean        67.08\n",
            "std        126.75\n",
            "min          1.00\n",
            "25%          9.56\n",
            "50%         46.42\n",
            "75%         82.44\n",
            "max       6600.44\n",
            "Name: amt, dtype: float64\n",
            "\n",
            "\n",
            "Fraud %     0.43\n",
            "\n",
            "count     135.00\n",
            "mean      551.92\n",
            "std       389.42\n",
            "min         4.64\n",
            "25%       277.04\n",
            "50%       520.02\n",
            "75%       909.70\n",
            "max      1197.26\n",
            "Name: amt, dtype: float64\n"
          ]
        }
      ]
    },
    {
      "cell_type": "code",
      "source": [
        "plt.figure(figsize=(10,8))\n",
        "sns.set_style('darkgrid')\n",
        "sns.barplot(x=df['is_fraud'].value_counts().index,y=df['is_fraud'].value_counts(), palette=[\"C1\", \"C8\"])\n",
        "plt.title('Non Fraud X Fraud')\n",
        "plt.ylabel('Count')\n",
        "plt.xlabel('0: Non Fraud,  1: Fraud')\n",
        "print ('Non Fraud % ',round(df['is_fraud'].value_counts()[0]/len(df)*100,2))\n",
        "print ('Fraud %    ',round(df['is_fraud'].value_counts()[1]/len(df)*100,2));"
      ],
      "metadata": {
        "colab": {
          "base_uri": "https://localhost:8080/",
          "height": 548
        },
        "id": "jQOZa6shzw7x",
        "outputId": "b0a5376d-4693-4eed-ef09-7cafced93307"
      },
      "execution_count": null,
      "outputs": [
        {
          "output_type": "stream",
          "name": "stdout",
          "text": [
            "Non Fraud %  99.56\n",
            "Fraud %     0.43\n"
          ]
        },
        {
          "output_type": "display_data",
          "data": {
            "text/plain": [
              "<Figure size 720x576 with 1 Axes>"
            ],
            "image/png": "[encoded data removed]"
          },
          "metadata": {}
        }
      ]
    },
    {
      "cell_type": "markdown",
      "source": [
        "### **Applying Logistic Regression**"
      ],
      "metadata": {
        "id": "Eyi8viDUXetu"
      }
    },
    {
      "cell_type": "code",
      "source": [
        "feature_names = df2.iloc[:, 1:10].columns\n",
        "target = df2.iloc[:1, 10:].columns\n",
        "\n",
        "data_features = df2[feature_names]\n",
        "data_target = df2[target]"
      ],
      "metadata": {
        "id": "zx5JBEQrMbm1"
      },
      "execution_count": null,
      "outputs": []
    },
    {
      "cell_type": "code",
      "source": [
        "feature_names"
      ],
      "metadata": {
        "colab": {
          "base_uri": "https://localhost:8080/"
        },
        "id": "UGXSRYAiMhRV",
        "outputId": "3f308eac-b4c0-4813-d9ab-3c85c58bec5b"
      },
      "execution_count": null,
      "outputs": [
        {
          "output_type": "execute_result",
          "data": {
            "text/plain": [
              "Index(['cc_num', 'amt', 'zip', 'lat', 'long', 'city_pop', 'unix_time',\n",
              "       'merch_lat', 'merch_long'],\n",
              "      dtype='object')"
            ]
          },
          "metadata": {},
          "execution_count": 32
        }
      ]
    },
    {
      "cell_type": "code",
      "source": [
        "target"
      ],
      "metadata": {
        "colab": {
          "base_uri": "https://localhost:8080/"
        },
        "id": "cV9huk7xMmWG",
        "outputId": "c44c3bff-045f-48e3-bcfc-9ec40b36846a"
      },
      "execution_count": null,
      "outputs": [
        {
          "output_type": "execute_result",
          "data": {
            "text/plain": [
              "Index(['is_fraud'], dtype='object')"
            ]
          },
          "metadata": {},
          "execution_count": 33
        }
      ]
    },
    {
      "cell_type": "code",
      "source": [
        "from sklearn.model_selection import train_test_split\n",
        "np.random.seed(123)\n",
        "X_train, X_test, y_train, y_test = train_test_split(data_features, data_target, \n",
        "                                                    train_size = 0.80, test_size = 0.20, random_state = 1)"
      ],
      "metadata": {
        "id": "At5ED4swM60T"
      },
      "execution_count": null,
      "outputs": []
    },
    {
      "cell_type": "code",
      "source": [
        "from sklearn.linear_model import LogisticRegression\n",
        "lr = LogisticRegression()"
      ],
      "metadata": {
        "id": "cEvoXKudM_Lc"
      },
      "execution_count": null,
      "outputs": []
    },
    {
      "cell_type": "code",
      "source": [
        "lr.fit(X_train, y_train)"
      ],
      "metadata": {
        "colab": {
          "base_uri": "https://localhost:8080/"
        },
        "id": "7I5Eg9QmNCRC",
        "outputId": "4aec63ba-3bcb-4403-a6e5-cc70cc7225b2"
      },
      "execution_count": null,
      "outputs": [
        {
          "output_type": "stream",
          "name": "stderr",
          "text": [
            "/usr/local/lib/python3.8/dist-packages/sklearn/utils/validation.py:993: DataConversionWarning: A column-vector y was passed when a 1d array was expected. Please change the shape of y to (n_samples, ), for example using ravel().\n",
            "  y = column_or_1d(y, warn=True)\n",
            "/usr/local/lib/python3.8/dist-packages/sklearn/linear_model/_logistic.py:814: ConvergenceWarning: lbfgs failed to converge (status=2):\n",
            "ABNORMAL_TERMINATION_IN_LNSRCH.\n",
            "\n",
            "Increase the number of iterations (max_iter) or scale the data as shown in:\n",
            "    https://scikit-learn.org/stable/modules/preprocessing.html\n",
            "Please also refer to the documentation for alternative solver options:\n",
            "    https://scikit-learn.org/stable/modules/linear_model.html#logistic-regression\n",
            "  n_iter_i = _check_optimize_result(\n"
          ]
        },
        {
          "output_type": "execute_result",
          "data": {
            "text/plain": [
              "LogisticRegression()"
            ]
          },
          "metadata": {},
          "execution_count": 36
        }
      ]
    },
    {
      "cell_type": "markdown",
      "source": [
        "## **Checking the Accuracy**"
      ],
      "metadata": {
        "id": "ApwBuUKWXrS1"
      }
    },
    {
      "cell_type": "code",
      "source": [
        "def PrintStats(cmat, y_test, pred):\n",
        "    tpos = cmat[0][0]\n",
        "    fneg = cmat[1][1]\n",
        "    fpos = cmat[0][1]\n",
        "    tneg = cmat[1][0]"
      ],
      "metadata": {
        "id": "C2QKa7cJNM7M"
      },
      "execution_count": null,
      "outputs": []
    },
    {
      "cell_type": "code",
      "source": [
        "def RunModel(model, X_train, y_train, X_test, y_test):\n",
        "    model.fit(X_train, y_train.values.ravel())\n",
        "    pred = model.predict(X_test)\n",
        "    matrix = confusion_matrix(y_test, pred)\n",
        "    return matrix, pred"
      ],
      "metadata": {
        "id": "uGFxpgFaNeXY"
      },
      "execution_count": null,
      "outputs": []
    },
    {
      "cell_type": "code",
      "source": [
        "!pip install scikit-plot\n",
        "from sklearn.metrics import accuracy_score, confusion_matrix, classification_report, roc_auc_score, roc_curve\n",
        "import scikitplot as skplt"
      ],
      "metadata": {
        "id": "NXNSu4p3NhjS"
      },
      "execution_count": null,
      "outputs": []
    },
    {
      "cell_type": "code",
      "source": [
        "cmat, pred = RunModel(lr, X_train, y_train, X_test, y_test)"
      ],
      "metadata": {
        "colab": {
          "base_uri": "https://localhost:8080/"
        },
        "id": "zJGAoG5dOqGK",
        "outputId": "088f42a2-def6-4bd4-c3cf-6dc923b30b41"
      },
      "execution_count": null,
      "outputs": [
        {
          "output_type": "stream",
          "name": "stderr",
          "text": [
            "/usr/local/lib/python3.8/dist-packages/sklearn/linear_model/_logistic.py:814: ConvergenceWarning: lbfgs failed to converge (status=2):\n",
            "ABNORMAL_TERMINATION_IN_LNSRCH.\n",
            "\n",
            "Increase the number of iterations (max_iter) or scale the data as shown in:\n",
            "    https://scikit-learn.org/stable/modules/preprocessing.html\n",
            "Please also refer to the documentation for alternative solver options:\n",
            "    https://scikit-learn.org/stable/modules/linear_model.html#logistic-regression\n",
            "  n_iter_i = _check_optimize_result(\n"
          ]
        }
      ]
    },
    {
      "cell_type": "markdown",
      "source": [
        "### **Confusion Matrix**"
      ],
      "metadata": {
        "id": "BsEwwE8FXzJA"
      }
    },
    {
      "cell_type": "code",
      "source": [
        "import scikitplot as skplt\n",
        "skplt.metrics.plot_confusion_matrix(y_test, pred)"
      ],
      "metadata": {
        "colab": {
          "base_uri": "https://localhost:8080/",
          "height": 312
        },
        "id": "9jnFXL6sOvJn",
        "outputId": "c5f7846a-3157-4be3-f8eb-762a580fd8dd"
      },
      "execution_count": null,
      "outputs": [
        {
          "output_type": "execute_result",
          "data": {
            "text/plain": [
              "<AxesSubplot:title={'center':'Confusion Matrix'}, xlabel='Predicted label', ylabel='True label'>"
            ]
          },
          "metadata": {},
          "execution_count": 41
        },
        {
          "output_type": "display_data",
          "data": {
            "text/plain": [
              "<Figure size 432x288 with 2 Axes>"
            ],
            "image/png": "[encoded data removed]"
          },
          "metadata": {}
        }
      ]
    },
    {
      "cell_type": "markdown",
      "source": [
        "### **Accuracy Score**"
      ],
      "metadata": {
        "id": "bYt__UZRYAfL"
      }
    },
    {
      "cell_type": "code",
      "source": [
        "accuracy_score(y_test, pred)"
      ],
      "metadata": {
        "colab": {
          "base_uri": "https://localhost:8080/"
        },
        "id": "nse1xgz4TgKv",
        "outputId": "6e6ba114-87c8-407c-8900-107ac4077211"
      },
      "execution_count": null,
      "outputs": [
        {
          "output_type": "execute_result",
          "data": {
            "text/plain": [
              "0.9953413654618474"
            ]
          },
          "metadata": {},
          "execution_count": 49
        }
      ]
    },
    {
      "cell_type": "markdown",
      "source": [
        "### **Classification Report**"
      ],
      "metadata": {
        "id": "N3r3YK5jYEA_"
      }
    },
    {
      "cell_type": "code",
      "source": [
        "print (classification_report(y_test, pred))"
      ],
      "metadata": {
        "colab": {
          "base_uri": "https://localhost:8080/"
        },
        "id": "GbAYDOT2TlXp",
        "outputId": "aa36233e-a2b0-4509-8c51-60d6b2796209"
      },
      "execution_count": null,
      "outputs": [
        {
          "output_type": "stream",
          "name": "stdout",
          "text": [
            "              precision    recall  f1-score   support\n",
            "\n",
            "         0.0       1.00      1.00      1.00      6196\n",
            "         1.0       0.00      0.00      0.00        29\n",
            "\n",
            "    accuracy                           1.00      6225\n",
            "   macro avg       0.50      0.50      0.50      6225\n",
            "weighted avg       0.99      1.00      0.99      6225\n",
            "\n"
          ]
        },
        {
          "output_type": "stream",
          "name": "stderr",
          "text": [
            "/usr/local/lib/python3.8/dist-packages/sklearn/metrics/_classification.py:1318: UndefinedMetricWarning: Precision and F-score are ill-defined and being set to 0.0 in labels with no predicted samples. Use `zero_division` parameter to control this behavior.\n",
            "  _warn_prf(average, modifier, msg_start, len(result))\n",
            "/usr/local/lib/python3.8/dist-packages/sklearn/metrics/_classification.py:1318: UndefinedMetricWarning: Precision and F-score are ill-defined and being set to 0.0 in labels with no predicted samples. Use `zero_division` parameter to control this behavior.\n",
            "  _warn_prf(average, modifier, msg_start, len(result))\n",
            "/usr/local/lib/python3.8/dist-packages/sklearn/metrics/_classification.py:1318: UndefinedMetricWarning: Precision and F-score are ill-defined and being set to 0.0 in labels with no predicted samples. Use `zero_division` parameter to control this behavior.\n",
            "  _warn_prf(average, modifier, msg_start, len(result))\n"
          ]
        }
      ]
    }
  ]
}